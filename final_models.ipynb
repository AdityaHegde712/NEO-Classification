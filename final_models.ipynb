{
 "cells": [
  {
   "cell_type": "code",
   "execution_count": 72,
   "metadata": {},
   "outputs": [],
   "source": [
    "import pandas as pd\n",
    "import numpy as np\n",
    "import matplotlib.pyplot as plt\n",
    "import seaborn as sns\n",
    "from sklearn.impute import SimpleImputer\n",
    "from sklearn.preprocessing import StandardScaler, LabelEncoder\n",
    "from sklearn.linear_model import LogisticRegression\n",
    "from sklearn.model_selection import cross_val_score\n",
    "from sklearn.ensemble import RandomForestClassifier\n",
    "from sklearn.svm import SVC\n",
    "from sklearn.model_selection import train_test_split\n",
    "from sklearn.metrics import accuracy_score, confusion_matrix\n",
    "import joblib\n",
    "import os\n",
    "from imblearn.over_sampling import SMOTE\n",
    "from collections import Counter\n",
    "import re"
   ]
  },
  {
   "cell_type": "markdown",
   "metadata": {},
   "source": [
    "#### Dataframes"
   ]
  },
  {
   "cell_type": "code",
   "execution_count": 32,
   "metadata": {},
   "outputs": [],
   "source": [
    "guide = {\n",
    "    'Apollo' : 1,\n",
    "    'Amor' : 0,\n",
    "    'Aten' : 2,\n",
    "    'IEO' : 3\n",
    "}"
   ]
  },
  {
   "cell_type": "code",
   "execution_count": 123,
   "metadata": {},
   "outputs": [],
   "source": [
    "df1 = pd.read_csv('datasets/ac_dataset_neo_pha.csv', engine='pyarrow')"
   ]
  },
  {
   "cell_type": "code",
   "execution_count": 124,
   "metadata": {},
   "outputs": [],
   "source": [
    "x = df1.iloc[:, :-4]\n",
    "y = df1.iloc[:, -2]"
   ]
  },
  {
   "cell_type": "code",
   "execution_count": 125,
   "metadata": {},
   "outputs": [],
   "source": [
    "temp = pd.concat([x, y], axis=1)\n",
    "correlation_with_neo = temp.corr()['neo']\n",
    "top_attributes = correlation_with_neo.abs().nlargest(11).index\n",
    "temp = temp[top_attributes]\n",
    "\n",
    "x = temp.iloc[:, 1:]\n",
    "y = temp.iloc[:, 0]"
   ]
  },
  {
   "cell_type": "code",
   "execution_count": 128,
   "metadata": {},
   "outputs": [],
   "source": [
    "train1 = pd.concat([x, y], axis=1)\n",
    "train1.to_csv('Front-End/resources/train1.csv', index=False)"
   ]
  },
  {
   "cell_type": "code",
   "execution_count": 126,
   "metadata": {},
   "outputs": [],
   "source": [
    "x_train, x_test, y_train, y_test = train_test_split(x, y, test_size=0.2, random_state=42)\n",
    "\n",
    "scaler = StandardScaler()\n",
    "x_train = scaler.fit_transform(x_train)\n",
    "x_test = scaler.transform(x_test)\n",
    "\n",
    "smote = SMOTE()\n",
    "x_train, y_train = smote.fit_resample(x_train, y_train)"
   ]
  },
  {
   "cell_type": "code",
   "execution_count": 66,
   "metadata": {},
   "outputs": [
    {
     "name": "stdout",
     "output_type": "stream",
     "text": [
      "Accuracy:  0.9996158091567102\n"
     ]
    }
   ],
   "source": [
    "neo_reg = LogisticRegression(max_iter=10000, random_state=0)\n",
    "\n",
    "cv_scores = cross_val_score(neo_reg, x_train, y_train, cv=5)\n",
    "print('Accuracy: ', cv_scores.mean())"
   ]
  },
  {
   "cell_type": "code",
   "execution_count": 67,
   "metadata": {},
   "outputs": [],
   "source": [
    "x = df1.iloc[:, :-4]\n",
    "y = df1.iloc[:, -1]"
   ]
  },
  {
   "cell_type": "code",
   "execution_count": 68,
   "metadata": {},
   "outputs": [],
   "source": [
    "temp = pd.concat([x, y], axis=1)\n",
    "correlation_with_neo = temp.corr()['pha']\n",
    "top_attributes = correlation_with_neo.abs().nlargest(11).index\n",
    "temp = temp[top_attributes]\n",
    "\n",
    "x = temp.iloc[:, 1:]\n",
    "y = temp.iloc[:, 0]"
   ]
  },
  {
   "cell_type": "code",
   "execution_count": 116,
   "metadata": {},
   "outputs": [],
   "source": [
    "x_train, x_test, y_train, y_test = train_test_split(x, y, test_size=0.2, random_state=42)\n",
    "\n",
    "scaler = StandardScaler()\n",
    "x_train = scaler.fit_transform(x_train)\n",
    "x_test = scaler.transform(x_test)\n",
    "\n",
    "smote = SMOTE()\n",
    "x_train, y_train = smote.fit_resample(x_train, y_train)"
   ]
  },
  {
   "cell_type": "code",
   "execution_count": 70,
   "metadata": {},
   "outputs": [
    {
     "name": "stdout",
     "output_type": "stream",
     "text": [
      "Accuracy:  0.9973118390721541\n"
     ]
    }
   ],
   "source": [
    "pha_reg = LogisticRegression(max_iter=10000, random_state=0)\n",
    "\n",
    "cv_scores = cross_val_score(pha_reg, x_train, y_train, cv=5)\n",
    "print('Accuracy: ', cv_scores.mean())"
   ]
  },
  {
   "cell_type": "code",
   "execution_count": 73,
   "metadata": {},
   "outputs": [
    {
     "data": {
      "text/plain": [
       "['models/pha_reg_0.joblib']"
      ]
     },
     "execution_count": 73,
     "metadata": {},
     "output_type": "execute_result"
    }
   ],
   "source": [
    "joblib.dump(neo_reg, 'models/neo_reg_0.joblib')\n",
    "joblib.dump(pha_reg, 'models/pha_reg_0.joblib')"
   ]
  },
  {
   "cell_type": "code",
   "execution_count": 129,
   "metadata": {},
   "outputs": [],
   "source": [
    "df = pd.read_csv('datasets/ab_cneos_closeapproach_data_pha.csv', engine='pyarrow')"
   ]
  },
  {
   "cell_type": "code",
   "execution_count": 130,
   "metadata": {},
   "outputs": [],
   "source": [
    "x = df.iloc[:, :-1]\n",
    "y = df.iloc[:, -1]"
   ]
  },
  {
   "cell_type": "code",
   "execution_count": 122,
   "metadata": {},
   "outputs": [],
   "source": [
    "test_1 = pd.concat([x.iloc[:20, :], y[:20]], axis=1)\n",
    "test_1.to_csv('Front-End/resources/test2.csv', index=False)"
   ]
  },
  {
   "cell_type": "code",
   "execution_count": 131,
   "metadata": {},
   "outputs": [],
   "source": [
    "import re\n",
    "\n",
    "def extract_upper_limit(value):\n",
    "    if not 'km' in value:\n",
    "        # Extract the upper limit from \"X m - Y m\" or \"X m\" format\n",
    "        limits = re.findall(r'[\\d.]+', value)\n",
    "        if limits:\n",
    "            return float(limits[-1])\n",
    "    return value\n",
    "\n",
    "# Assuming x['Diameter (m)'] is your column\n",
    "x['Diameter'] = x['Diameter'].apply(extract_upper_limit)\n"
   ]
  },
  {
   "cell_type": "code",
   "execution_count": 132,
   "metadata": {},
   "outputs": [
    {
     "name": "stdout",
     "output_type": "stream",
     "text": [
      "0           550.0\n",
      "1            82.0\n",
      "2            77.0\n",
      "3    0.33±0.05 km\n",
      "4            90.0\n",
      "Name: Diameter, dtype: object\n"
     ]
    }
   ],
   "source": [
    "print(x['Diameter'].head())"
   ]
  },
  {
   "cell_type": "code",
   "execution_count": 133,
   "metadata": {},
   "outputs": [
    {
     "name": "stdout",
     "output_type": "stream",
     "text": [
      "0    550.0\n",
      "1     82.0\n",
      "2     77.0\n",
      "4     90.0\n",
      "5     57.0\n",
      "Name: Diameter, dtype: object\n"
     ]
    }
   ],
   "source": [
    "x = x[x['Diameter'].apply(lambda x: 'km' not in str(x))]\n",
    "print(x['Diameter'].head())"
   ]
  },
  {
   "cell_type": "code",
   "execution_count": 134,
   "metadata": {},
   "outputs": [],
   "source": [
    "x.drop(['Object'], axis=1, inplace=True)"
   ]
  },
  {
   "cell_type": "code",
   "execution_count": 135,
   "metadata": {},
   "outputs": [
    {
     "name": "stdout",
     "output_type": "stream",
     "text": [
      "<class 'pandas.core.frame.DataFrame'>\n",
      "Index: 33892 entries, 0 to 35909\n",
      "Data columns (total 7 columns):\n",
      " #   Column                    Non-Null Count  Dtype  \n",
      "---  ------                    --------------  -----  \n",
      " 0   Close-Approach (CA) Date  33892 non-null  object \n",
      " 1   CA DistanceNominal (au)   33892 non-null  object \n",
      " 2   CA DistanceMinimum (au)   33892 non-null  float64\n",
      " 3   V relative(km/s)          33892 non-null  float64\n",
      " 4   V infinity(km/s)          33892 non-null  object \n",
      " 5   H(mag)                    33892 non-null  float64\n",
      " 6   Diameter                  33892 non-null  object \n",
      "dtypes: float64(3), object(4)\n",
      "memory usage: 2.1+ MB\n",
      "None\n"
     ]
    }
   ],
   "source": [
    "print(x.info())"
   ]
  },
  {
   "cell_type": "code",
   "execution_count": 136,
   "metadata": {},
   "outputs": [],
   "source": [
    "final = pd.concat([x, y], axis=1)\n",
    "\n",
    "final.dropna(inplace=True)"
   ]
  },
  {
   "cell_type": "code",
   "execution_count": 137,
   "metadata": {},
   "outputs": [
    {
     "name": "stdout",
     "output_type": "stream",
     "text": [
      "<class 'pandas.core.frame.DataFrame'>\n",
      "Index: 33892 entries, 0 to 35909\n",
      "Data columns (total 8 columns):\n",
      " #   Column                    Non-Null Count  Dtype  \n",
      "---  ------                    --------------  -----  \n",
      " 0   Close-Approach (CA) Date  33892 non-null  object \n",
      " 1   CA DistanceNominal (au)   33892 non-null  object \n",
      " 2   CA DistanceMinimum (au)   33892 non-null  float64\n",
      " 3   V relative(km/s)          33892 non-null  float64\n",
      " 4   V infinity(km/s)          33892 non-null  object \n",
      " 5   H(mag)                    33892 non-null  float64\n",
      " 6   Diameter                  33892 non-null  object \n",
      " 7   pha                       33892 non-null  int64  \n",
      "dtypes: float64(3), int64(1), object(4)\n",
      "memory usage: 2.3+ MB\n",
      "None\n"
     ]
    }
   ],
   "source": [
    "print(final.info())"
   ]
  },
  {
   "cell_type": "code",
   "execution_count": 138,
   "metadata": {},
   "outputs": [],
   "source": [
    "x = final.iloc[:, :-1]\n",
    "y = final.iloc[:, -1]"
   ]
  },
  {
   "cell_type": "code",
   "execution_count": 139,
   "metadata": {},
   "outputs": [],
   "source": [
    "# Assuming df is your DataFrame and 'Diameter (m)' is the column\n",
    "x['Diameter'] = x['Diameter'].astype(float)\n"
   ]
  },
  {
   "cell_type": "code",
   "execution_count": 140,
   "metadata": {},
   "outputs": [],
   "source": [
    "def clean_and_convert(value):\n",
    "    # Extract numeric part using regex\n",
    "    numeric_part = re.search(r'[\\d.]+', str(value))\n",
    "    if numeric_part:\n",
    "        return float(numeric_part.group())\n",
    "    else:\n",
    "        return None  # or handle non-convertible values as needed\n",
    "\n",
    "# Assuming x is your DataFrame and 'CA DistanceNominal (au)' is the column\n",
    "x['CA DistanceNominal (au)'] = x['CA DistanceNominal (au)'].apply(clean_and_convert)"
   ]
  },
  {
   "cell_type": "code",
   "execution_count": 141,
   "metadata": {},
   "outputs": [],
   "source": [
    "# Assuming x is your DataFrame and 'V infinity(km/s)' is the column\n",
    "x['V infinity(km/s)'] = pd.to_numeric(x['V infinity(km/s)'], errors='coerce').fillna(0).astype(float)\n"
   ]
  },
  {
   "cell_type": "code",
   "execution_count": 142,
   "metadata": {},
   "outputs": [],
   "source": [
    "x.drop('Close-Approach (CA) Date', axis=1, inplace=True)"
   ]
  },
  {
   "cell_type": "code",
   "execution_count": 143,
   "metadata": {},
   "outputs": [
    {
     "name": "stdout",
     "output_type": "stream",
     "text": [
      "<class 'pandas.core.frame.DataFrame'>\n",
      "Index: 33892 entries, 0 to 35909\n",
      "Data columns (total 6 columns):\n",
      " #   Column                   Non-Null Count  Dtype  \n",
      "---  ------                   --------------  -----  \n",
      " 0   CA DistanceNominal (au)  33892 non-null  float64\n",
      " 1   CA DistanceMinimum (au)  33892 non-null  float64\n",
      " 2   V relative(km/s)         33892 non-null  float64\n",
      " 3   V infinity(km/s)         33892 non-null  float64\n",
      " 4   H(mag)                   33892 non-null  float64\n",
      " 5   Diameter                 33892 non-null  float64\n",
      "dtypes: float64(6)\n",
      "memory usage: 1.8 MB\n",
      "<class 'pandas.core.series.Series'>\n",
      "Index: 33892 entries, 0 to 35909\n",
      "Series name: pha\n",
      "Non-Null Count  Dtype\n",
      "--------------  -----\n",
      "33892 non-null  int64\n",
      "dtypes: int64(1)\n",
      "memory usage: 529.6 KB\n",
      "None None\n"
     ]
    }
   ],
   "source": [
    "print(x.info(), y.info())"
   ]
  },
  {
   "cell_type": "code",
   "execution_count": 145,
   "metadata": {},
   "outputs": [],
   "source": [
    "train1 = pd.concat([x.iloc[:20, :], y[:20]], axis=1)\n",
    "train1.to_csv('Front-End/resources/test2.csv', index=False)"
   ]
  },
  {
   "cell_type": "code",
   "execution_count": 144,
   "metadata": {},
   "outputs": [],
   "source": [
    "train1 = pd.concat([x, y], axis=1)\n",
    "train1.to_csv('Front-End/resources/train2.csv', index=False)"
   ]
  },
  {
   "cell_type": "code",
   "execution_count": 109,
   "metadata": {},
   "outputs": [],
   "source": [
    "x_train, x_test, y_train, y_test = train_test_split(x, y, test_size=0.2, random_state=42)\n",
    "\n",
    "scaler = StandardScaler()\n",
    "x_train = scaler.fit_transform(x_train)\n",
    "x_test = scaler.transform(x_test)\n",
    "\n",
    "smote = SMOTE()\n",
    "x_train, y_train = smote.fit_resample(x_train, y_train)"
   ]
  },
  {
   "cell_type": "code",
   "execution_count": 110,
   "metadata": {},
   "outputs": [
    {
     "name": "stdout",
     "output_type": "stream",
     "text": [
      "Accuracy:  0.9476854290326877\n"
     ]
    }
   ],
   "source": [
    "hazard_reg = LogisticRegression(max_iter=10000, random_state=0)\n",
    "\n",
    "cv_scores = cross_val_score(hazard_reg, x_train, y_train, cv=5)\n",
    "print('Accuracy: ', cv_scores.mean())"
   ]
  },
  {
   "cell_type": "code",
   "execution_count": 111,
   "metadata": {},
   "outputs": [
    {
     "data": {
      "text/plain": [
       "['models/pha_reg_1.joblib']"
      ]
     },
     "execution_count": 111,
     "metadata": {},
     "output_type": "execute_result"
    }
   ],
   "source": [
    "joblib.dump(hazard_reg, 'models/pha_reg_1.joblib')"
   ]
  }
 ],
 "metadata": {
  "kernelspec": {
   "display_name": "ML_Project",
   "language": "python",
   "name": "python3"
  },
  "language_info": {
   "codemirror_mode": {
    "name": "ipython",
    "version": 3
   },
   "file_extension": ".py",
   "mimetype": "text/x-python",
   "name": "python",
   "nbconvert_exporter": "python",
   "pygments_lexer": "ipython3",
   "version": "3.10.13"
  }
 },
 "nbformat": 4,
 "nbformat_minor": 2
}
