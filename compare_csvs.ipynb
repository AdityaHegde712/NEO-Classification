{
 "cells": [
  {
   "cell_type": "markdown",
   "metadata": {},
   "source": [
    "Imports"
   ]
  },
  {
   "cell_type": "code",
   "execution_count": 2,
   "metadata": {},
   "outputs": [],
   "source": [
    "import pandas as pd\n",
    "import numpy as np\n",
    "import matplotlib.pyplot as plt\n",
    "import os\n"
   ]
  },
  {
   "cell_type": "markdown",
   "metadata": {},
   "source": [
    "List all csvs"
   ]
  },
  {
   "cell_type": "code",
   "execution_count": 45,
   "metadata": {},
   "outputs": [
    {
     "name": "stdout",
     "output_type": "stream",
     "text": [
      "10_NASA_Near-Earth_Objects.csv\n",
      "11_Near-Earth_Asteroids_(NEAs).csv\n",
      "12_NEOS-Close-Approach-Data.csv\n",
      "13_NEO_Earth_Close_Approaches.csv\n",
      "14_neo_v2.csv\n",
      "15_orbits.csv\n",
      "16_orbits_-_orbits.csv\n",
      "17_pha_use_only_NEA_class.csv\n",
      "18_sbdb_query_results.csv\n",
      "19_vizier_votable1.csv\n",
      "1_Future_Asteroids.csv\n",
      "20_vizier_votable2.csv\n",
      "2_Near_Earth_Asteroids.csv\n",
      "4_Amerigeoss_see_what_you_can_use_Near-Earth_Comets_-_Orbital_Elements.csv\n",
      "5_asteroid_diameter.csv\n",
      "6_Asteroid_Updated.csv\n",
      "7_cneos_closeapproach_data.csv\n",
      "8_dataset.csv\n",
      "9_nasa.csv\n",
      "19\n"
     ]
    }
   ],
   "source": [
    "CSVs = []\n",
    "os.chdir('datasets')\n",
    "for file in os.listdir():\n",
    "    if file.endswith(\".csv\") and file[0].isdigit():\n",
    "        CSVs.append(file)\n",
    "        print(file)\n",
    "\n",
    "print(len(CSVs))"
   ]
  },
  {
   "cell_type": "markdown",
   "metadata": {},
   "source": [
    "Read all csv headers"
   ]
  },
  {
   "cell_type": "code",
   "execution_count": 57,
   "metadata": {},
   "outputs": [
    {
     "name": "stdout",
     "output_type": "stream",
     "text": [
      "[18, ['Unnamed: 0', 'id', 'neo_reference_id', 'name', 'name_limited', 'designation', 'absolute_magnitude_h', 'is_potentially_hazardous_asteroid', 'is_sentry_object', 'kilometers_estimated_diameter_min', 'kilometers_estimated_diameter_max', 'orbit_id', 'orbit_class_type', 'perihelion_distance', 'aphelion_distance', 'first_observation_date', 'last_observation_date', 'orbit_class_description']]\n",
      "[12, ['Date', 'NEC', 'Atira', 'Aten', 'Apollo', 'Amor', 'PHA-km', 'PHA', 'NEA-km', 'NEA-140m', 'NEA', 'NEO']]\n",
      "[12, ['des', 'orbit_id', 'jd', 'cd', 'dist', 'dist_min', 'dist_max', 'v_rel', 'v_inf', 't_sigma_f', 'h', 'fullname']]\n",
      "[9, ['Object', 'Close-Approach (CA) Date', 'CA DistanceNominal (au)', 'CA DistanceMinimum (au)', 'V relative(km/s)', 'V infinity(km/s)', 'H(mag)', 'Diameter', 'Rarity']]\n",
      "[10, ['id', 'name', 'est_diameter_min', 'est_diameter_max', 'relative_velocity', 'miss_distance', 'orbiting_body', 'sentry_object', 'absolute_magnitude', 'hazardous']]\n",
      "[15, ['Object Name', 'Object Classification', 'Epoch (TDB)', 'Orbit Axis (AU)', 'Orbit Eccentricity', 'Orbit Inclination (deg)', 'Perihelion Argument (deg)', 'Node Longitude (deg)', 'Mean Anomoly (deg)', 'Perihelion Distance (AU)', 'Aphelion Distance (AU)', 'Orbital Period (yr)', 'Minimum Orbit Intersection Distance (AU)', 'Orbital Reference', 'Asteroid Magnitude']]\n",
      "[16, ['Object Name', 'Epoch (TDB)', 'Orbit Axis (AU)', 'Orbit Eccentricity', 'Orbit Inclination (deg)', 'Perihelion Argument (deg)', 'Node Longitude (deg)', 'Mean Anomoly (deg)', 'Perihelion Distance (AU)', 'Aphelion Distance (AU)', 'Orbital Period (yr)', 'Minimum Orbit Intersection Distance (AU)', 'Orbital Reference', 'Asteroid Magnitude', 'Classification', 'Hazardous']]\n",
      "[16, ['Object', 'Epoch (TDB)', 'a (AU)', 'e', 'i (deg)', 'w (deg)', 'Node (deg)', 'M (deg)', 'q (AU)', 'Q (AU)', 'P (yr)', 'H (mag)', 'MOID (AU)', 'ref', 'class', 'Object.1']]\n",
      "[79, ['spkid', 'full_name', 'pdes', 'name', 'prefix', 'neo', 'pha', 'sats', 'H', 'G', 'M1', 'M2', 'K1', 'K2', 'PC', 'diameter', 'extent', 'albedo', 'rot_per', 'GM', 'BV', 'UB', 'IR', 'spec_B', 'spec_T', 'H_sigma', 'diameter_sigma', 'orbit_id', 'epoch', 'epoch_mjd', 'epoch_cal', 'equinox', 'e', 'a', 'q', 'i', 'om', 'w', 'ma', 'ad', 'n', 'tp', 'tp_cal', 'per', 'per_y', 'moid', 'moid_ld', 'moid_jup', 't_jup', 'sigma_e', 'sigma_a', 'sigma_q', 'sigma_i', 'sigma_om', 'sigma_w', 'sigma_ma', 'sigma_ad', 'sigma_n', 'sigma_tp', 'sigma_per', 'class', 'producer', 'data_arc', 'first_obs', 'last_obs', 'n_obs_used', 'n_del_obs_used', 'n_dop_obs_used', 'condition_code', 'rms', 'two_body', 'A1', 'A1_sigma', 'A2', 'A2_sigma', 'A3', 'A3_sigma', 'DT', 'DT_sigma']]\n",
      "[45, ['recno', 'Name', 'Date', 'Time', 'RAdeg', 'DEdeg', 'length', 'angle', 'sigma', 'mag', 'snr', 'seeing', 'Inst', 'Filter', 'ExpTime', 'predRA', 'predDE', 'preda', 'predb', 'predlength', 'predangle', 'predmag', 'predsn', ' ', ' .1', '\"Y:M:D\"', ' .2', 'deg', 'deg.1', 'arcsec', 'deg.2', 'arcsec.1', 'mag.1', ' .3', 'arcsec.2', ' .4', ' .5', 's', 'deg.3', 'deg.4', 'arcsec.3', 'arcsec.4', 'arcsec.5', 'deg.5', 'mag.2']]\n",
      "[10, ['Object', 'Close-Approach (CA) Date\\xa0(TDB)YYYY-mmm-DD HH:MM ± D_HH:MM', 'CA DistanceNominal(LD/AU)', 'CA DistanceMinimum(LD/AU)', 'Vrelative(km/s)', 'Vinfinity(km/s)', 'Nsigma', 'H(mag)', 'ref', 'class']]\n",
      "[23, ['recno', 'Name', 'Date', 'Time', 'RAdeg', 'DEdeg', 'length', 'angle', 'sigma', 'mag', 'snr', 'seeing', 'Inst', 'Filter', 'ExpTime', 'predRA', 'predDE', 'preda', 'predb', 'predlength', 'predangle', 'predmag', 'predsn']]\n",
      "[10, ['Object', 'Close-Approach (CA) Date\\xa0(TDB)YYYY-mmm-DD HH:MM ± D_HH:MM', 'CA DistanceNominal(LD/AU)', 'CA DistanceMinimum(LD/AU)', 'Vrelative(km/s)', 'Vinfinity(km/s)', 'Nsigma', 'H(mag)', 'ref', 'class']]\n",
      "[17, ['Object', 'Epoch (TDB)', 'TP (TDB)', 'e', 'i (deg)', 'w (deg)', 'Node (deg)', 'q (AU)', 'Q (AU)', 'P (yr)', 'MOID (AU)', 'A1 (AU/d^2)', 'A2 (AU/d^2)', 'A3 (AU/d^2)', 'DT (d)', 'ref', 'Object_name']]\n",
      "[58, ['full_name', 'a', 'e', 'i', 'om', 'w', 'q', 'ad', 'per_y', 'data_arc', 'condition_code', 'n_obs_used', 'H', 'spkid', 'pdes', 'name', 'neo', 'pha', 'sats', 'G', 'diameter', 'albedo', 'rot_per', 'BV', 'UB', 'spec_B', 'spec_T', 'diameter_sigma', 'orbit_id', 'epoch', 'epoch_mjd', 'epoch_cal', 'equinox', 'ma', 'n', 'tp', 'tp_cal', 'per', 'moid', 'moid_ld', 'moid_jup', 't_jup', 'sigma_e', 'sigma_a', 'sigma_q', 'sigma_i', 'sigma_om', 'sigma_w', 'sigma_ma', 'sigma_ad', 'sigma_n', 'sigma_tp', 'sigma_per', 'class', 'producer', 'first_obs', 'last_obs', 'rms']]\n",
      "[31, ['name', 'a', 'e', 'i', 'om', 'w', 'q', 'ad', 'per_y', 'data_arc', 'condition_code', 'n_obs_used', 'H', 'neo', 'pha', 'diameter', 'extent', 'albedo', 'rot_per', 'GM', 'BV', 'UB', 'IR', 'spec_B', 'spec_T', 'G', 'moid', 'class', 'n', 'per', 'ma']]\n",
      "[9, ['Object', 'Close-Approach (CA) Date', 'CA Distance Nominal (LD | au)', 'CA Distance Minimum (LD | au)', 'V relative (km/s)', 'V infinity (km/s)', 'H (mag)', 'Estimated Diameter', 'Unnamed: 8']]\n",
      "[45, ['id', 'spkid', 'full_name', 'pdes', 'name', 'prefix', 'neo', 'pha', 'H', 'diameter', 'albedo', 'diameter_sigma', 'orbit_id', 'epoch', 'epoch_mjd', 'epoch_cal', 'equinox', 'e', 'a', 'q', 'i', 'om', 'w', 'ma', 'ad', 'n', 'tp', 'tp_cal', 'per', 'per_y', 'moid', 'moid_ld', 'sigma_e', 'sigma_a', 'sigma_q', 'sigma_i', 'sigma_om', 'sigma_w', 'sigma_ma', 'sigma_ad', 'sigma_n', 'sigma_tp', 'sigma_per', 'class', 'rms']]\n",
      "[40, ['Neo Reference ID', 'Name', 'Absolute Magnitude', 'Est Dia in KM(min)', 'Est Dia in KM(max)', 'Est Dia in M(min)', 'Est Dia in M(max)', 'Est Dia in Miles(min)', 'Est Dia in Miles(max)', 'Est Dia in Feet(min)', 'Est Dia in Feet(max)', 'Close Approach Date', 'Epoch Date Close Approach', 'Relative Velocity km per sec', 'Relative Velocity km per hr', 'Miles per hour', 'Miss Dist.(Astronomical)', 'Miss Dist.(lunar)', 'Miss Dist.(kilometers)', 'Miss Dist.(miles)', 'Orbiting Body', 'Orbit ID', 'Orbit Determination Date', 'Orbit Uncertainity', 'Minimum Orbit Intersection', 'Jupiter Tisserand Invariant', 'Epoch Osculation', 'Eccentricity', 'Semi Major Axis', 'Inclination', 'Asc Node Longitude', 'Orbital Period', 'Perihelion Distance', 'Perihelion Arg', 'Aphelion Dist', 'Perihelion Time', 'Mean Anomaly', 'Mean Motion', 'Equinox', 'Hazardous']]\n"
     ]
    }
   ],
   "source": [
    "# Read all csv headers\n",
    "headers = []\n",
    "no_attributes = []\n",
    "for file in CSVs:\n",
    "    df = pd.read_csv(file, nrows=1)\n",
    "    headers.append(df.columns.tolist())\n",
    "    no_attributes.append(len(df.columns.tolist()))\n",
    "\n",
    "final = []\n",
    "for i, j in zip(no_attributes, headers):\n",
    "    final.append([i, j])\n",
    "    print([i, j])"
   ]
  },
  {
   "cell_type": "code",
   "execution_count": 65,
   "metadata": {},
   "outputs": [
    {
     "name": "stdout",
     "output_type": "stream",
     "text": [
      "Attributes: 0\n",
      "{'CSV attribute comparisons': []}\n",
      "\n",
      "\n",
      "Attributes: 9\n",
      "{'13_NEO_Earth_Close_Approaches': ['Object', 'Close-Approach (CA) Date', 'CA DistanceNominal (au)', 'CA DistanceMinimum (au)', 'V relative(km/s)', 'V infinity(km/s)', 'H(mag)', 'Diameter', 'Rarity']}\n",
      "{'7_cneos_closeapproach_data': ['Object', 'Close-Approach (CA) Date', 'CA Distance Nominal (LD | au)', 'CA Distance Minimum (LD | au)', 'V relative (km/s)', 'V infinity (km/s)', 'H (mag)', 'Estimated Diameter', '']}\n",
      "\n",
      "\n",
      "Attributes: 10\n",
      "{'14_neo_v2': ['id', 'name', 'est_diameter_min', 'est_diameter_max', 'relative_velocity', 'miss_distance', 'orbiting_body', 'sentry_object', 'absolute_magnitude', 'hazardous']}\n",
      "{'1_Future_Asteroids': ['Object', 'Close-Approach (CA) Date\\xa0(TDB)YYYY-mmm-DD HH:MM ± D_HH:MM', 'CA DistanceNominal(LD/AU)', 'CA DistanceMinimum(LD/AU)', 'Vrelative(km/s)', 'Vinfinity(km/s)', 'Nsigma', 'H(mag)', 'ref', 'class']}\n",
      "{'2_Near_Earth_Asteroids': ['Object', 'Close-Approach (CA) Date\\xa0(TDB)YYYY-mmm-DD HH:MM ± D_HH:MM', 'CA DistanceNominal(LD/AU)', 'CA DistanceMinimum(LD/AU)', 'Vrelative(km/s)', 'Vinfinity(km/s)', 'Nsigma', 'H(mag)', 'ref', 'class']}\n",
      "\n",
      "\n",
      "Attributes: 12\n",
      "{'11_Near-Earth_Asteroids_(NEAs)': ['Date', 'NEC', 'Atira', 'Aten', 'Apollo', 'Amor', 'PHA-km', 'PHA', 'NEA-km', 'NEA-140m', 'NEA', 'NEO']}\n",
      "{'12_NEOS-Close-Approach-Data': ['des', 'orbit_id', 'jd', 'cd', 'dist', 'dist_min', 'dist_max', 'v_rel', 'v_inf', 't_sigma_f', 'h', 'fullname']}\n",
      "\n",
      "\n",
      "Attributes: 15\n",
      "{'15_orbits': ['Object Name', 'Object Classification', 'Epoch (TDB)', 'Orbit Axis (AU)', 'Orbit Eccentricity', 'Orbit Inclination (deg)', 'Perihelion Argument (deg)', 'Node Longitude (deg)', 'Mean Anomoly (deg)', 'Perihelion Distance (AU)', 'Aphelion Distance (AU)', 'Orbital Period (yr)', 'Minimum Orbit Intersection Distance (AU)', 'Orbital Reference', 'Asteroid Magnitude']}\n",
      "\n",
      "\n",
      "Attributes: 16\n",
      "{'16_orbits_-_orbits': ['Object Name', 'Epoch (TDB)', 'Orbit Axis (AU)', 'Orbit Eccentricity', 'Orbit Inclination (deg)', 'Perihelion Argument (deg)', 'Node Longitude (deg)', 'Mean Anomoly (deg)', 'Perihelion Distance (AU)', 'Aphelion Distance (AU)', 'Orbital Period (yr)', 'Minimum Orbit Intersection Distance (AU)', 'Orbital Reference', 'Asteroid Magnitude', 'Classification', 'Hazardous']}\n",
      "{'17_pha_use_only_NEA_class': ['Object', 'Epoch (TDB)', 'a (AU)', 'e', 'i (deg)', 'w (deg)', 'Node (deg)', 'M (deg)', 'q (AU)', 'Q (AU)', 'P (yr)', 'H (mag)', 'MOID (AU)', 'ref', 'class', 'Object']}\n",
      "\n",
      "\n",
      "Attributes: 17\n",
      "{'4_Amerigeoss_see_what_you_can_use_Near-Earth_Comets_-_Orbital_Elements': ['Object', 'Epoch (TDB)', 'TP (TDB)', 'e', 'i (deg)', 'w (deg)', 'Node (deg)', 'q (AU)', 'Q (AU)', 'P (yr)', 'MOID (AU)', 'A1 (AU/d^2)', 'A2 (AU/d^2)', 'A3 (AU/d^2)', 'DT (d)', 'ref', 'Object_name']}\n",
      "\n",
      "\n",
      "Attributes: 18\n",
      "{'10_NASA_Near-Earth_Objects': ['', 'id', 'neo_reference_id', 'name', 'name_limited', 'designation', 'absolute_magnitude_h', 'is_potentially_hazardous_asteroid', 'is_sentry_object', 'kilometers_estimated_diameter_min', 'kilometers_estimated_diameter_max', 'orbit_id', 'orbit_class_type', 'perihelion_distance', 'aphelion_distance', 'first_observation_date', 'last_observation_date', 'orbit_class_description']}\n",
      "\n",
      "\n",
      "Attributes: 23\n",
      "{'20_vizier_votable2': ['recno', 'Name', 'Date', 'Time', 'RAdeg', 'DEdeg', 'length', 'angle', 'sigma', 'mag', 'snr', 'seeing', 'Inst', 'Filter', 'ExpTime', 'predRA', 'predDE', 'preda', 'predb', 'predlength', 'predangle', 'predmag', 'predsn']}\n",
      "\n",
      "\n",
      "Attributes: 31\n",
      "{'6_Asteroid_Updated': ['name', 'a', 'e', 'i', 'om', 'w', 'q', 'ad', 'per_y', 'data_arc', 'condition_code', 'n_obs_used', 'H', 'neo', 'pha', 'diameter', 'extent', 'albedo', 'rot_per', 'GM', 'BV', 'UB', 'IR', 'spec_B', 'spec_T', 'G', 'moid', 'class', 'n', 'per', 'ma']}\n",
      "\n",
      "\n",
      "Attributes: 40\n",
      "{'9_nasa': ['Neo Reference ID', 'Name', 'Absolute Magnitude', 'Est Dia in KM(min)', 'Est Dia in KM(max)', 'Est Dia in M(min)', 'Est Dia in M(max)', 'Est Dia in Miles(min)', 'Est Dia in Miles(max)', 'Est Dia in Feet(min)', 'Est Dia in Feet(max)', 'Close Approach Date', 'Epoch Date Close Approach', 'Relative Velocity km per sec', 'Relative Velocity km per hr', 'Miles per hour', 'Miss Dist.(Astronomical)', 'Miss Dist.(lunar)', 'Miss Dist.(kilometers)', 'Miss Dist.(miles)', 'Orbiting Body', 'Orbit ID', 'Orbit Determination Date', 'Orbit Uncertainity', 'Minimum Orbit Intersection', 'Jupiter Tisserand Invariant', 'Epoch Osculation', 'Eccentricity', 'Semi Major Axis', 'Inclination', 'Asc Node Longitude', 'Orbital Period', 'Perihelion Distance', 'Perihelion Arg', 'Aphelion Dist', 'Perihelion Time', 'Mean Anomaly', 'Mean Motion', 'Equinox', 'Hazardous']}\n",
      "\n",
      "\n",
      "Attributes: 45\n",
      "{'19_vizier_votable1': ['recno', 'Name', 'Date', 'Time', 'RAdeg', 'DEdeg', 'length', 'angle', 'sigma', 'mag', 'snr', 'seeing', 'Inst', 'Filter', 'ExpTime', 'predRA', 'predDE', 'preda', 'predb', 'predlength', 'predangle', 'predmag', 'predsn', ' ', ' ', '\"Y:M:D\"', ' ', 'deg', 'deg', 'arcsec', 'deg', 'arcsec', 'mag', ' ', 'arcsec', ' ', ' ', 's', 'deg', 'deg', 'arcsec', 'arcsec', 'arcsec', 'deg', 'mag']}\n",
      "{'8_dataset': ['id', 'spkid', 'full_name', 'pdes', 'name', 'prefix', 'neo', 'pha', 'H', 'diameter', 'albedo', 'diameter_sigma', 'orbit_id', 'epoch', 'epoch_mjd', 'epoch_cal', 'equinox', 'e', 'a', 'q', 'i', 'om', 'w', 'ma', 'ad', 'n', 'tp', 'tp_cal', 'per', 'per_y', 'moid', 'moid_ld', 'sigma_e', 'sigma_a', 'sigma_q', 'sigma_i', 'sigma_om', 'sigma_w', 'sigma_ma', 'sigma_ad', 'sigma_n', 'sigma_tp', 'sigma_per', 'class', 'rms']}\n",
      "\n",
      "\n",
      "Attributes: 58\n",
      "{'5_asteroid_diameter': ['full_name', 'a', 'e', 'i', 'om', 'w', 'q', 'ad', 'per_y', 'data_arc', 'condition_code', 'n_obs_used', 'H', 'spkid', 'pdes', 'name', 'neo', 'pha', 'sats', 'G', 'diameter', 'albedo', 'rot_per', 'BV', 'UB', 'spec_B', 'spec_T', 'diameter_sigma', 'orbit_id', 'epoch', 'epoch_mjd', 'epoch_cal', 'equinox', 'ma', 'n', 'tp', 'tp_cal', 'per', 'moid', 'moid_ld', 'moid_jup', 't_jup', 'sigma_e', 'sigma_a', 'sigma_q', 'sigma_i', 'sigma_om', 'sigma_w', 'sigma_ma', 'sigma_ad', 'sigma_n', 'sigma_tp', 'sigma_per', 'class', 'producer', 'first_obs', 'last_obs', 'rms']}\n",
      "\n",
      "\n",
      "Attributes: 79\n",
      "{'18_sbdb_query_results': ['spkid', 'full_name', 'pdes', 'name', 'prefix', 'neo', 'pha', 'sats', 'H', 'G', 'M1', 'M2', 'K1', 'K2', 'PC', 'diameter', 'extent', 'albedo', 'rot_per', 'GM', 'BV', 'UB', 'IR', 'spec_B', 'spec_T', 'H_sigma', 'diameter_sigma', 'orbit_id', 'epoch', 'epoch_mjd', 'epoch_cal', 'equinox', 'e', 'a', 'q', 'i', 'om', 'w', 'ma', 'ad', 'n', 'tp', 'tp_cal', 'per', 'per_y', 'moid', 'moid_ld', 'moid_jup', 't_jup', 'sigma_e', 'sigma_a', 'sigma_q', 'sigma_i', 'sigma_om', 'sigma_w', 'sigma_ma', 'sigma_ad', 'sigma_n', 'sigma_tp', 'sigma_per', 'class', 'producer', 'data_arc', 'first_obs', 'last_obs', 'n_obs_used', 'n_del_obs_used', 'n_dop_obs_used', 'condition_code', 'rms', 'two_body', 'A1', 'A1_sigma', 'A2', 'A2_sigma', 'A3', 'A3_sigma', 'DT', 'DT_sigma']}\n",
      "\n",
      "\n"
     ]
    }
   ],
   "source": [
    "import os\n",
    "import csv\n",
    "\n",
    "\n",
    "# Initialize an empty dictionary to store grouped data\n",
    "grouped_data = {}\n",
    "\n",
    "# Iterate through the CSV files in the directory\n",
    "for filename in os.listdir():\n",
    "    if filename.endswith(\".csv\"):\n",
    "        # Extract the CSV name and number of attributes\n",
    "        csv_name = os.path.splitext(filename)[0]\n",
    "        with open(os.path.join(filename), 'r') as csvfile:\n",
    "            csv_reader = csv.reader(csvfile)\n",
    "            attributes = next(csv_reader)  # Read the first row as attributes\n",
    "            num_attributes = len(attributes)\n",
    "        \n",
    "        # Group the data by the number of attributes\n",
    "        if num_attributes in grouped_data:\n",
    "            grouped_data[num_attributes].append({csv_name: attributes})\n",
    "        else:\n",
    "            grouped_data[num_attributes] = [{csv_name: attributes}]\n",
    "\n",
    "# Sort the groups by the number of attributes\n",
    "sorted_groups = sorted(grouped_data.items())\n",
    "\n",
    "# Create the final dictionary with the desired format\n",
    "final_result = {num_attr: data for num_attr, data in sorted_groups}\n",
    "\n",
    "# Display the result\n",
    "for num_attributes, csv_list in final_result.items():\n",
    "    print(f\"Attributes: {num_attributes}\")\n",
    "    for csvs in csv_list:\n",
    "        print(csvs)\n",
    "    print('\\n')\n"
   ]
  },
  {
   "cell_type": "code",
   "execution_count": null,
   "metadata": {},
   "outputs": [],
   "source": []
  }
 ],
 "metadata": {
  "kernelspec": {
   "display_name": "ML_Project",
   "language": "python",
   "name": "python3"
  },
  "language_info": {
   "codemirror_mode": {
    "name": "ipython",
    "version": 3
   },
   "file_extension": ".py",
   "mimetype": "text/x-python",
   "name": "python",
   "nbconvert_exporter": "python",
   "pygments_lexer": "ipython3",
   "version": "3.10.13"
  },
  "orig_nbformat": 4
 },
 "nbformat": 4,
 "nbformat_minor": 2
}
