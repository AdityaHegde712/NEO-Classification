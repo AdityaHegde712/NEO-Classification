{
 "cells": [
  {
   "cell_type": "markdown",
   "metadata": {},
   "source": [
    "Imports"
   ]
  },
  {
   "cell_type": "code",
   "execution_count": 1,
   "metadata": {},
   "outputs": [],
   "source": [
    "import pandas as pd\n",
    "import numpy as np\n",
    "import matplotlib.pyplot as plt\n",
    "import os\n"
   ]
  },
  {
   "cell_type": "markdown",
   "metadata": {},
   "source": [
    "List all csvs"
   ]
  },
  {
   "cell_type": "code",
   "execution_count": 2,
   "metadata": {},
   "outputs": [
    {
     "name": "stdout",
     "output_type": "stream",
     "text": [
      "aa_Amerigeoss_see_what_you_can_use_Near-Earth_Comets_-_Orbital_Elements.csv\n",
      "ab_asteroid_diameter.csv\n",
      "ac_Asteroid_Updated.csv\n",
      "ad_cneos_closeapproach_data.csv\n",
      "ae_dataset.csv\n",
      "af_Future_Asteroids.csv\n",
      "ag_nasa.csv\n",
      "ah_NASA_Near-Earth_Objects.csv\n",
      "ai_Near-Earth_Asteroids_(NEAs).csv\n",
      "aj_Near_Earth_Asteroids.csv\n",
      "ak_NEOS-Close-Approach-Data.csv\n",
      "al_NEO_Earth_Close_Approaches.csv\n",
      "am_neo_v2.csv\n",
      "an_orbits.csv\n",
      "ao_orbits_-_orbits.csv\n",
      "ap_pha_use_only_NEA_class.csv\n",
      "aq_sbdb_query_results.csv\n",
      "ar_vizier_votable1.csv\n",
      "as_vizier_votable2.csv\n",
      "\n",
      " 19\n"
     ]
    }
   ],
   "source": [
    "CSVs = []\n",
    "os.chdir('datasets')\n",
    "for file in os.listdir():\n",
    "    if file.endswith(\".csv\") and file[0].isalpha():\n",
    "        CSVs.append(file)\n",
    "        print(file)\n",
    "\n",
    "print('\\n', len(CSVs))"
   ]
  },
  {
   "cell_type": "markdown",
   "metadata": {},
   "source": [
    "Read all csv headers"
   ]
  },
  {
   "cell_type": "code",
   "execution_count": 19,
   "metadata": {},
   "outputs": [
    {
     "name": "stdout",
     "output_type": "stream",
     "text": [
      "[17, ['Object', 'Epoch (TDB)', 'TP (TDB)', 'e', 'i (deg)', 'w (deg)', 'Node (deg)', 'q (AU)', 'Q (AU)', 'P (yr)', 'MOID (AU)', 'A1 (AU/d^2)', 'A2 (AU/d^2)', 'A3 (AU/d^2)', 'DT (d)', 'ref', 'Object_name']]\n",
      "[58, ['full_name', 'a', 'e', 'i', 'om', 'w', 'q', 'ad', 'per_y', 'data_arc', 'condition_code', 'n_obs_used', 'H', 'spkid', 'pdes', 'name', 'neo', 'pha', 'sats', 'G', 'diameter', 'albedo', 'rot_per', 'BV', 'UB', 'spec_B', 'spec_T', 'diameter_sigma', 'orbit_id', 'epoch', 'epoch_mjd', 'epoch_cal', 'equinox', 'ma', 'n', 'tp', 'tp_cal', 'per', 'moid', 'moid_ld', 'moid_jup', 't_jup', 'sigma_e', 'sigma_a', 'sigma_q', 'sigma_i', 'sigma_om', 'sigma_w', 'sigma_ma', 'sigma_ad', 'sigma_n', 'sigma_tp', 'sigma_per', 'class', 'producer', 'first_obs', 'last_obs', 'rms']]\n",
      "[31, ['name', 'a', 'e', 'i', 'om', 'w', 'q', 'ad', 'per_y', 'data_arc', 'condition_code', 'n_obs_used', 'H', 'neo', 'pha', 'diameter', 'extent', 'albedo', 'rot_per', 'GM', 'BV', 'UB', 'IR', 'spec_B', 'spec_T', 'G', 'moid', 'class', 'n', 'per', 'ma']]\n",
      "[9, ['Object', 'Close-Approach (CA) Date', 'CA Distance Nominal (LD | au)', 'CA Distance Minimum (LD | au)', 'V relative (km/s)', 'V infinity (km/s)', 'H (mag)', 'Estimated Diameter', 'Unnamed: 8']]\n",
      "[45, ['id', 'spkid', 'full_name', 'pdes', 'name', 'prefix', 'neo', 'pha', 'H', 'diameter', 'albedo', 'diameter_sigma', 'orbit_id', 'epoch', 'epoch_mjd', 'epoch_cal', 'equinox', 'e', 'a', 'q', 'i', 'om', 'w', 'ma', 'ad', 'n', 'tp', 'tp_cal', 'per', 'per_y', 'moid', 'moid_ld', 'sigma_e', 'sigma_a', 'sigma_q', 'sigma_i', 'sigma_om', 'sigma_w', 'sigma_ma', 'sigma_ad', 'sigma_n', 'sigma_tp', 'sigma_per', 'class', 'rms']]\n",
      "[10, ['Object', 'Close-Approach (CA) Date\\xa0(TDB)YYYY-mmm-DD HH:MM ± D_HH:MM', 'CA DistanceNominal(LD/AU)', 'CA DistanceMinimum(LD/AU)', 'Vrelative(km/s)', 'Vinfinity(km/s)', 'Nsigma', 'H(mag)', 'ref', 'class']]\n",
      "[40, ['Neo Reference ID', 'Name', 'Absolute Magnitude', 'Est Dia in KM(min)', 'Est Dia in KM(max)', 'Est Dia in M(min)', 'Est Dia in M(max)', 'Est Dia in Miles(min)', 'Est Dia in Miles(max)', 'Est Dia in Feet(min)', 'Est Dia in Feet(max)', 'Close Approach Date', 'Epoch Date Close Approach', 'Relative Velocity km per sec', 'Relative Velocity km per hr', 'Miles per hour', 'Miss Dist.(Astronomical)', 'Miss Dist.(lunar)', 'Miss Dist.(kilometers)', 'Miss Dist.(miles)', 'Orbiting Body', 'Orbit ID', 'Orbit Determination Date', 'Orbit Uncertainity', 'Minimum Orbit Intersection', 'Jupiter Tisserand Invariant', 'Epoch Osculation', 'Eccentricity', 'Semi Major Axis', 'Inclination', 'Asc Node Longitude', 'Orbital Period', 'Perihelion Distance', 'Perihelion Arg', 'Aphelion Dist', 'Perihelion Time', 'Mean Anomaly', 'Mean Motion', 'Equinox', 'Hazardous']]\n",
      "[18, ['Unnamed: 0', 'id', 'neo_reference_id', 'name', 'name_limited', 'designation', 'absolute_magnitude_h', 'is_potentially_hazardous_asteroid', 'is_sentry_object', 'kilometers_estimated_diameter_min', 'kilometers_estimated_diameter_max', 'orbit_id', 'orbit_class_type', 'perihelion_distance', 'aphelion_distance', 'first_observation_date', 'last_observation_date', 'orbit_class_description']]\n",
      "[12, ['Date', 'NEC', 'Atira', 'Aten', 'Apollo', 'Amor', 'PHA-km', 'PHA', 'NEA-km', 'NEA-140m', 'NEA', 'NEO']]\n",
      "[10, ['Object', 'Close-Approach (CA) Date\\xa0(TDB)YYYY-mmm-DD HH:MM ± D_HH:MM', 'CA DistanceNominal(LD/AU)', 'CA DistanceMinimum(LD/AU)', 'Vrelative(km/s)', 'Vinfinity(km/s)', 'Nsigma', 'H(mag)', 'ref', 'class']]\n",
      "[12, ['des', 'orbit_id', 'jd', 'cd', 'dist', 'dist_min', 'dist_max', 'v_rel', 'v_inf', 't_sigma_f', 'h', 'fullname']]\n",
      "[9, ['Object', 'Close-Approach (CA) Date', 'CA DistanceNominal (au)', 'CA DistanceMinimum (au)', 'V relative(km/s)', 'V infinity(km/s)', 'H(mag)', 'Diameter', 'Rarity']]\n",
      "[10, ['id', 'name', 'est_diameter_min', 'est_diameter_max', 'relative_velocity', 'miss_distance', 'orbiting_body', 'sentry_object', 'absolute_magnitude', 'hazardous']]\n",
      "[15, ['Object Name', 'Object Classification', 'Epoch (TDB)', 'Orbit Axis (AU)', 'Orbit Eccentricity', 'Orbit Inclination (deg)', 'Perihelion Argument (deg)', 'Node Longitude (deg)', 'Mean Anomoly (deg)', 'Perihelion Distance (AU)', 'Aphelion Distance (AU)', 'Orbital Period (yr)', 'Minimum Orbit Intersection Distance (AU)', 'Orbital Reference', 'Asteroid Magnitude']]\n",
      "[16, ['Object Name', 'Epoch (TDB)', 'Orbit Axis (AU)', 'Orbit Eccentricity', 'Orbit Inclination (deg)', 'Perihelion Argument (deg)', 'Node Longitude (deg)', 'Mean Anomoly (deg)', 'Perihelion Distance (AU)', 'Aphelion Distance (AU)', 'Orbital Period (yr)', 'Minimum Orbit Intersection Distance (AU)', 'Orbital Reference', 'Asteroid Magnitude', 'Classification', 'Hazardous']]\n",
      "[16, ['Object', 'Epoch (TDB)', 'a (AU)', 'e', 'i (deg)', 'w (deg)', 'Node (deg)', 'M (deg)', 'q (AU)', 'Q (AU)', 'P (yr)', 'H (mag)', 'MOID (AU)', 'ref', 'class', 'Object.1']]\n",
      "[79, ['spkid', 'full_name', 'pdes', 'name', 'prefix', 'neo', 'pha', 'sats', 'H', 'G', 'M1', 'M2', 'K1', 'K2', 'PC', 'diameter', 'extent', 'albedo', 'rot_per', 'GM', 'BV', 'UB', 'IR', 'spec_B', 'spec_T', 'H_sigma', 'diameter_sigma', 'orbit_id', 'epoch', 'epoch_mjd', 'epoch_cal', 'equinox', 'e', 'a', 'q', 'i', 'om', 'w', 'ma', 'ad', 'n', 'tp', 'tp_cal', 'per', 'per_y', 'moid', 'moid_ld', 'moid_jup', 't_jup', 'sigma_e', 'sigma_a', 'sigma_q', 'sigma_i', 'sigma_om', 'sigma_w', 'sigma_ma', 'sigma_ad', 'sigma_n', 'sigma_tp', 'sigma_per', 'class', 'producer', 'data_arc', 'first_obs', 'last_obs', 'n_obs_used', 'n_del_obs_used', 'n_dop_obs_used', 'condition_code', 'rms', 'two_body', 'A1', 'A1_sigma', 'A2', 'A2_sigma', 'A3', 'A3_sigma', 'DT', 'DT_sigma']]\n",
      "[45, ['recno', 'Name', 'Date', 'Time', 'RAdeg', 'DEdeg', 'length', 'angle', 'sigma', 'mag', 'snr', 'seeing', 'Inst', 'Filter', 'ExpTime', 'predRA', 'predDE', 'preda', 'predb', 'predlength', 'predangle', 'predmag', 'predsn', ' ', ' .1', '\"Y:M:D\"', ' .2', 'deg', 'deg.1', 'arcsec', 'deg.2', 'arcsec.1', 'mag.1', ' .3', 'arcsec.2', ' .4', ' .5', 's', 'deg.3', 'deg.4', 'arcsec.3', 'arcsec.4', 'arcsec.5', 'deg.5', 'mag.2']]\n",
      "[23, ['recno', 'Name', 'Date', 'Time', 'RAdeg', 'DEdeg', 'length', 'angle', 'sigma', 'mag', 'snr', 'seeing', 'Inst', 'Filter', 'ExpTime', 'predRA', 'predDE', 'preda', 'predb', 'predlength', 'predangle', 'predmag', 'predsn']]\n"
     ]
    }
   ],
   "source": [
    "# Read all csv headers\n",
    "headers = []\n",
    "no_attributes = []\n",
    "for file in CSVs:\n",
    "    df = pd.read_csv(file, nrows=1)\n",
    "    headers.append(df.columns.tolist())\n",
    "    no_attributes.append(len(df.columns.tolist()))\n",
    "\n",
    "final = []\n",
    "for i, j in zip(no_attributes, headers):\n",
    "    final.append([i, j])\n",
    "    print([i, j])"
   ]
  },
  {
   "cell_type": "code",
   "execution_count": 20,
   "metadata": {},
   "outputs": [
    {
     "name": "stdout",
     "output_type": "stream",
     "text": [
      "Attributes: 9\n",
      "ad_cneos_closeapproach_data:\t['Object', 'Close-Approach (CA) Date', 'CA Distance Nominal (LD | au)', 'CA Distance Minimum (LD | au)', 'V relative (km/s)', 'V infinity (km/s)', 'H (mag)', 'Estimated Diameter', '']\n",
      "al_NEO_Earth_Close_Approaches:\t['Object', 'Close-Approach (CA) Date', 'CA DistanceNominal (au)', 'CA DistanceMinimum (au)', 'V relative(km/s)', 'V infinity(km/s)', 'H(mag)', 'Diameter', 'Rarity']\n",
      "\n",
      "\n",
      "Attributes: 10\n",
      "af_Future_Asteroids:\t['Object', 'Close-Approach (CA) Date\\xa0(TDB)YYYY-mmm-DD HH:MM ± D_HH:MM', 'CA DistanceNominal(LD/AU)', 'CA DistanceMinimum(LD/AU)', 'Vrelative(km/s)', 'Vinfinity(km/s)', 'Nsigma', 'H(mag)', 'ref', 'class']\n",
      "aj_Near_Earth_Asteroids:\t['Object', 'Close-Approach (CA) Date\\xa0(TDB)YYYY-mmm-DD HH:MM ± D_HH:MM', 'CA DistanceNominal(LD/AU)', 'CA DistanceMinimum(LD/AU)', 'Vrelative(km/s)', 'Vinfinity(km/s)', 'Nsigma', 'H(mag)', 'ref', 'class']\n",
      "am_neo_v2:\t['id', 'name', 'est_diameter_min', 'est_diameter_max', 'relative_velocity', 'miss_distance', 'orbiting_body', 'sentry_object', 'absolute_magnitude', 'hazardous']\n",
      "\n",
      "\n",
      "Attributes: 12\n",
      "ai_Near-Earth_Asteroids_(NEAs):\t['Date', 'NEC', 'Atira', 'Aten', 'Apollo', 'Amor', 'PHA-km', 'PHA', 'NEA-km', 'NEA-140m', 'NEA', 'NEO']\n",
      "ak_NEOS-Close-Approach-Data:\t['des', 'orbit_id', 'jd', 'cd', 'dist', 'dist_min', 'dist_max', 'v_rel', 'v_inf', 't_sigma_f', 'h', 'fullname']\n",
      "\n",
      "\n",
      "Attributes: 15\n",
      "an_orbits:\t['Object Name', 'Object Classification', 'Epoch (TDB)', 'Orbit Axis (AU)', 'Orbit Eccentricity', 'Orbit Inclination (deg)', 'Perihelion Argument (deg)', 'Node Longitude (deg)', 'Mean Anomoly (deg)', 'Perihelion Distance (AU)', 'Aphelion Distance (AU)', 'Orbital Period (yr)', 'Minimum Orbit Intersection Distance (AU)', 'Orbital Reference', 'Asteroid Magnitude']\n",
      "\n",
      "\n",
      "Attributes: 16\n",
      "ao_orbits_-_orbits:\t['Object Name', 'Epoch (TDB)', 'Orbit Axis (AU)', 'Orbit Eccentricity', 'Orbit Inclination (deg)', 'Perihelion Argument (deg)', 'Node Longitude (deg)', 'Mean Anomoly (deg)', 'Perihelion Distance (AU)', 'Aphelion Distance (AU)', 'Orbital Period (yr)', 'Minimum Orbit Intersection Distance (AU)', 'Orbital Reference', 'Asteroid Magnitude', 'Classification', 'Hazardous']\n",
      "ap_pha_use_only_NEA_class:\t['Object', 'Epoch (TDB)', 'a (AU)', 'e', 'i (deg)', 'w (deg)', 'Node (deg)', 'M (deg)', 'q (AU)', 'Q (AU)', 'P (yr)', 'H (mag)', 'MOID (AU)', 'ref', 'class', 'Object']\n",
      "\n",
      "\n",
      "Attributes: 17\n",
      "aa_Amerigeoss_see_what_you_can_use_Near-Earth_Comets_-_Orbital_Elements:\t['Object', 'Epoch (TDB)', 'TP (TDB)', 'e', 'i (deg)', 'w (deg)', 'Node (deg)', 'q (AU)', 'Q (AU)', 'P (yr)', 'MOID (AU)', 'A1 (AU/d^2)', 'A2 (AU/d^2)', 'A3 (AU/d^2)', 'DT (d)', 'ref', 'Object_name']\n",
      "\n",
      "\n",
      "Attributes: 18\n",
      "ah_NASA_Near-Earth_Objects:\t['', 'id', 'neo_reference_id', 'name', 'name_limited', 'designation', 'absolute_magnitude_h', 'is_potentially_hazardous_asteroid', 'is_sentry_object', 'kilometers_estimated_diameter_min', 'kilometers_estimated_diameter_max', 'orbit_id', 'orbit_class_type', 'perihelion_distance', 'aphelion_distance', 'first_observation_date', 'last_observation_date', 'orbit_class_description']\n",
      "\n",
      "\n",
      "Attributes: 23\n",
      "as_vizier_votable2:\t['recno', 'Name', 'Date', 'Time', 'RAdeg', 'DEdeg', 'length', 'angle', 'sigma', 'mag', 'snr', 'seeing', 'Inst', 'Filter', 'ExpTime', 'predRA', 'predDE', 'preda', 'predb', 'predlength', 'predangle', 'predmag', 'predsn']\n",
      "\n",
      "\n",
      "Attributes: 31\n",
      "ac_Asteroid_Updated:\t['name', 'a', 'e', 'i', 'om', 'w', 'q', 'ad', 'per_y', 'data_arc', 'condition_code', 'n_obs_used', 'H', 'neo', 'pha', 'diameter', 'extent', 'albedo', 'rot_per', 'GM', 'BV', 'UB', 'IR', 'spec_B', 'spec_T', 'G', 'moid', 'class', 'n', 'per', 'ma']\n",
      "\n",
      "\n",
      "Attributes: 40\n",
      "ag_nasa:\t['Neo Reference ID', 'Name', 'Absolute Magnitude', 'Est Dia in KM(min)', 'Est Dia in KM(max)', 'Est Dia in M(min)', 'Est Dia in M(max)', 'Est Dia in Miles(min)', 'Est Dia in Miles(max)', 'Est Dia in Feet(min)', 'Est Dia in Feet(max)', 'Close Approach Date', 'Epoch Date Close Approach', 'Relative Velocity km per sec', 'Relative Velocity km per hr', 'Miles per hour', 'Miss Dist.(Astronomical)', 'Miss Dist.(lunar)', 'Miss Dist.(kilometers)', 'Miss Dist.(miles)', 'Orbiting Body', 'Orbit ID', 'Orbit Determination Date', 'Orbit Uncertainity', 'Minimum Orbit Intersection', 'Jupiter Tisserand Invariant', 'Epoch Osculation', 'Eccentricity', 'Semi Major Axis', 'Inclination', 'Asc Node Longitude', 'Orbital Period', 'Perihelion Distance', 'Perihelion Arg', 'Aphelion Dist', 'Perihelion Time', 'Mean Anomaly', 'Mean Motion', 'Equinox', 'Hazardous']\n",
      "\n",
      "\n",
      "Attributes: 45\n",
      "ae_dataset:\t['id', 'spkid', 'full_name', 'pdes', 'name', 'prefix', 'neo', 'pha', 'H', 'diameter', 'albedo', 'diameter_sigma', 'orbit_id', 'epoch', 'epoch_mjd', 'epoch_cal', 'equinox', 'e', 'a', 'q', 'i', 'om', 'w', 'ma', 'ad', 'n', 'tp', 'tp_cal', 'per', 'per_y', 'moid', 'moid_ld', 'sigma_e', 'sigma_a', 'sigma_q', 'sigma_i', 'sigma_om', 'sigma_w', 'sigma_ma', 'sigma_ad', 'sigma_n', 'sigma_tp', 'sigma_per', 'class', 'rms']\n",
      "ar_vizier_votable1:\t['recno', 'Name', 'Date', 'Time', 'RAdeg', 'DEdeg', 'length', 'angle', 'sigma', 'mag', 'snr', 'seeing', 'Inst', 'Filter', 'ExpTime', 'predRA', 'predDE', 'preda', 'predb', 'predlength', 'predangle', 'predmag', 'predsn', ' ', ' ', '\"Y:M:D\"', ' ', 'deg', 'deg', 'arcsec', 'deg', 'arcsec', 'mag', ' ', 'arcsec', ' ', ' ', 's', 'deg', 'deg', 'arcsec', 'arcsec', 'arcsec', 'deg', 'mag']\n",
      "\n",
      "\n",
      "Attributes: 58\n",
      "ab_asteroid_diameter:\t['full_name', 'a', 'e', 'i', 'om', 'w', 'q', 'ad', 'per_y', 'data_arc', 'condition_code', 'n_obs_used', 'H', 'spkid', 'pdes', 'name', 'neo', 'pha', 'sats', 'G', 'diameter', 'albedo', 'rot_per', 'BV', 'UB', 'spec_B', 'spec_T', 'diameter_sigma', 'orbit_id', 'epoch', 'epoch_mjd', 'epoch_cal', 'equinox', 'ma', 'n', 'tp', 'tp_cal', 'per', 'moid', 'moid_ld', 'moid_jup', 't_jup', 'sigma_e', 'sigma_a', 'sigma_q', 'sigma_i', 'sigma_om', 'sigma_w', 'sigma_ma', 'sigma_ad', 'sigma_n', 'sigma_tp', 'sigma_per', 'class', 'producer', 'first_obs', 'last_obs', 'rms']\n",
      "\n",
      "\n",
      "Attributes: 79\n",
      "aq_sbdb_query_results:\t['spkid', 'full_name', 'pdes', 'name', 'prefix', 'neo', 'pha', 'sats', 'H', 'G', 'M1', 'M2', 'K1', 'K2', 'PC', 'diameter', 'extent', 'albedo', 'rot_per', 'GM', 'BV', 'UB', 'IR', 'spec_B', 'spec_T', 'H_sigma', 'diameter_sigma', 'orbit_id', 'epoch', 'epoch_mjd', 'epoch_cal', 'equinox', 'e', 'a', 'q', 'i', 'om', 'w', 'ma', 'ad', 'n', 'tp', 'tp_cal', 'per', 'per_y', 'moid', 'moid_ld', 'moid_jup', 't_jup', 'sigma_e', 'sigma_a', 'sigma_q', 'sigma_i', 'sigma_om', 'sigma_w', 'sigma_ma', 'sigma_ad', 'sigma_n', 'sigma_tp', 'sigma_per', 'class', 'producer', 'data_arc', 'first_obs', 'last_obs', 'n_obs_used', 'n_del_obs_used', 'n_dop_obs_used', 'condition_code', 'rms', 'two_body', 'A1', 'A1_sigma', 'A2', 'A2_sigma', 'A3', 'A3_sigma', 'DT', 'DT_sigma']\n",
      "\n",
      "\n"
     ]
    }
   ],
   "source": [
    "import os\n",
    "import csv\n",
    "\n",
    "\n",
    "# Initialize an empty dictionary to store grouped data\n",
    "grouped_data = {}\n",
    "\n",
    "# Iterate through the CSV files in the directory\n",
    "for filename in os.listdir():\n",
    "    if filename.endswith(\".csv\"):\n",
    "        # Extract the CSV name and number of attributes\n",
    "        csv_name = os.path.splitext(filename)[0]\n",
    "        with open(os.path.join(filename), 'r') as csvfile:\n",
    "            csv_reader = csv.reader(csvfile)\n",
    "            attributes = next(csv_reader)  # Read the first row as attributes\n",
    "            num_attributes = len(attributes)\n",
    "        \n",
    "        # Group the data by the number of attributes\n",
    "        if num_attributes in grouped_data:\n",
    "            grouped_data[num_attributes].append({csv_name: attributes})\n",
    "        else:\n",
    "            grouped_data[num_attributes] = [{csv_name: attributes}]\n",
    "\n",
    "# Sort the groups by the number of attributes\n",
    "sorted_groups = sorted(grouped_data.items())\n",
    "\n",
    "# Create the final dictionary with the desired format\n",
    "final_result = {num_attr: data for num_attr, data in sorted_groups}\n",
    "\n",
    "result_keys = list(final_result.keys())\n",
    "result_keys.sort()\n",
    "sorted_dict = {i: final_result[i] for i in result_keys}\n",
    "\n",
    "# Display the result\n",
    "for num_attributes, csv_list in final_result.items():\n",
    "    print(f\"Attributes: {num_attributes}\")\n",
    "    for csvs in csv_list:\n",
    "        print(f\"{list(csvs.keys())[0]}:\\t{list(csvs.values())[0]}\")\n",
    "    print('\\n')\n"
   ]
  },
  {
   "cell_type": "code",
   "execution_count": 24,
   "metadata": {},
   "outputs": [
    {
     "name": "stdout",
     "output_type": "stream",
     "text": [
      "<class 'pandas.core.frame.DataFrame'>\n",
      "Index: 35890 entries, 0 to 35898\n",
      "Data columns (total 8 columns):\n",
      " #   Column                    Non-Null Count  Dtype  \n",
      "---  ------                    --------------  -----  \n",
      " 0   Object                    35890 non-null  object \n",
      " 1   Close-Approach (CA) Date  35890 non-null  object \n",
      " 2   CA DistanceNominal (au)   35890 non-null  float64\n",
      " 3   CA DistanceMinimum (au)   35890 non-null  float64\n",
      " 4   V relative(km/s)          35890 non-null  float64\n",
      " 5   V infinity(km/s)          35890 non-null  object \n",
      " 6   H(mag)                    35890 non-null  float64\n",
      " 7   Diameter                  35890 non-null  object \n",
      "dtypes: float64(4), object(4)\n",
      "memory usage: 2.5+ MB\n",
      "None\n",
      "\n",
      "\n",
      "<class 'pandas.core.frame.DataFrame'>\n",
      "RangeIndex: 20 entries, 0 to 19\n",
      "Data columns (total 8 columns):\n",
      " #   Column                    Non-Null Count  Dtype  \n",
      "---  ------                    --------------  -----  \n",
      " 0   Object                    20 non-null     object \n",
      " 1   Close-Approach (CA) Date  20 non-null     object \n",
      " 2   CA DistanceNominal (au)   20 non-null     object \n",
      " 3   CA DistanceMinimum (au)   20 non-null     object \n",
      " 4   V relative(km/s)          20 non-null     float64\n",
      " 5   V infinity(km/s)          20 non-null     float64\n",
      " 6   H(mag)                    20 non-null     float64\n",
      " 7   Diameter                  20 non-null     object \n",
      "dtypes: float64(3), object(5)\n",
      "memory usage: 1.4+ KB\n",
      "None\n"
     ]
    }
   ],
   "source": [
    "df1 = pd.read_csv('al_NEO_Earth_Close_Approaches.csv').dropna(axis=0).drop_duplicates().iloc[:, :-1]\n",
    "df2 = pd.read_csv('ad_cneos_closeapproach_data.csv').dropna(axis=0).drop_duplicates().iloc[:, :-1]\n",
    "\n",
    "print(df1.info(), end=\"\\n\\n\\n\")\n",
    "\n",
    "print(df2.info())"
   ]
  },
  {
   "cell_type": "code",
   "execution_count": 28,
   "metadata": {},
   "outputs": [
    {
     "name": "stdout",
     "output_type": "stream",
     "text": [
      "<class 'pandas.core.frame.DataFrame'>\n",
      "Index: 35910 entries, 0 to 19\n",
      "Data columns (total 8 columns):\n",
      " #   Column                    Non-Null Count  Dtype  \n",
      "---  ------                    --------------  -----  \n",
      " 0   Object                    35910 non-null  object \n",
      " 1   Close-Approach (CA) Date  35910 non-null  object \n",
      " 2   CA DistanceNominal (au)   35910 non-null  object \n",
      " 3   CA DistanceMinimum (au)   35910 non-null  object \n",
      " 4   V relative(km/s)          35910 non-null  float64\n",
      " 5   V infinity(km/s)          35910 non-null  object \n",
      " 6   H(mag)                    35910 non-null  float64\n",
      " 7   Diameter                  35910 non-null  object \n",
      "dtypes: float64(2), object(6)\n",
      "memory usage: 2.5+ MB\n",
      "None\n"
     ]
    }
   ],
   "source": [
    "df1 = pd.concat([df1, df2], axis=0).drop_duplicates()\n",
    "print(df1.info())"
   ]
  },
  {
   "cell_type": "code",
   "execution_count": 29,
   "metadata": {},
   "outputs": [],
   "source": [
    "df1.to_csv('at_cneos_closeapproach_data_final.csv', index=False)\n",
    "# we can now discard ad and al csvs"
   ]
  },
  {
   "cell_type": "markdown",
   "metadata": {},
   "source": [
    "To classify as NEO, we will need to see if the closest approach to the sun is less than 1.3 AU. <br>\n",
    "This dataset however, contains only NEOs. So this can only be used for PHA training. <br>\n",
    "For hazardousness, the object will need to be larger than 140 meters across. <br>\n",
    "We can easily create a column for these 2 classifications."
   ]
  },
  {
   "cell_type": "code",
   "execution_count": 41,
   "metadata": {},
   "outputs": [],
   "source": [
    "df = pd.read_csv('ad_cneos_closeapproach_data_final.csv')\n",
    "\n",
    "df['CA DistanceMinimum (au)'] = df['CA DistanceMinimum (au)'].apply(lambda x: x.split(' | ')[1].strip() if ' | ' in x else x).astype(float)"
   ]
  },
  {
   "cell_type": "code",
   "execution_count": 42,
   "metadata": {},
   "outputs": [],
   "source": [
    "# Create a new \"pha\" column and initialize it with zeros\n",
    "df['pha'] = 0\n",
    "\n",
    "# Apply your conditions to set 'pha' to 1 where necessary\n",
    "df.loc[(df['CA DistanceMinimum (au)'] < 0.01) | (df['H(mag)'] <= 22.0), 'pha'] = 1\n",
    "\n",
    "df.to_csv('ad_cneos_closeapproach_data_final.csv', index=False)"
   ]
  },
  {
   "cell_type": "code",
   "execution_count": 45,
   "metadata": {},
   "outputs": [
    {
     "name": "stdout",
     "output_type": "stream",
     "text": [
      "pha\n",
      "0    22778\n",
      "1    13132\n",
      "Name: count, dtype: int64\n"
     ]
    }
   ],
   "source": [
    "print(df['pha'].value_counts())"
   ]
  },
  {
   "cell_type": "code",
   "execution_count": null,
   "metadata": {},
   "outputs": [],
   "source": [
    "df.to_csv('at_cneos_closeapproach_data_final.csv', index=False)"
   ]
  }
 ],
 "metadata": {
  "kernelspec": {
   "display_name": "ML_Project",
   "language": "python",
   "name": "python3"
  },
  "language_info": {
   "codemirror_mode": {
    "name": "ipython",
    "version": 3
   },
   "file_extension": ".py",
   "mimetype": "text/x-python",
   "name": "python",
   "nbconvert_exporter": "python",
   "pygments_lexer": "ipython3",
   "version": "3.10.13"
  },
  "orig_nbformat": 4
 },
 "nbformat": 4,
 "nbformat_minor": 2
}
