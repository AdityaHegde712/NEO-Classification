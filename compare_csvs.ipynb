{
 "cells": [
  {
   "cell_type": "markdown",
   "metadata": {},
   "source": [
    "Imports"
   ]
  },
  {
   "cell_type": "code",
   "execution_count": 2,
   "metadata": {},
   "outputs": [],
   "source": [
    "import pandas as pd\n",
    "import numpy as np\n",
    "import matplotlib.pyplot as plt\n",
    "import os\n",
    "# os.chdir('C:/Users/Admin/Aditya Hegde/ML Project/NEO-Classification')"
   ]
  },
  {
   "cell_type": "markdown",
   "metadata": {},
   "source": [
    "Rename all CSVs (in datasets)"
   ]
  },
  {
   "cell_type": "code",
   "execution_count": 23,
   "metadata": {},
   "outputs": [
    {
     "name": "stdout",
     "output_type": "stream",
     "text": [
      "Renamed: asteroid_diameter.csv to aa_asteroid_diameter.csv\n",
      "Renamed: Asteroid_Updated.csv to ab_Asteroid_Updated.csv\n",
      "Renamed: dataset.csv to ac_dataset.csv\n",
      "Renamed: nasa.csv to ad_nasa.csv\n",
      "Renamed: NASA_Near-Earth_Objects.csv to ae_NASA_Near-Earth_Objects.csv\n",
      "Renamed: Near-Earth_Asteroids_(NEAs).csv to af_Near-Earth_Asteroids_(NEAs).csv\n",
      "Renamed: NEOS-Close-Approach-Data.csv to ag_NEOS-Close-Approach-Data.csv\n",
      "Renamed: neo_v2.csv to ah_neo_v2.csv\n",
      "Renamed: orbits.csv to ai_orbits.csv\n",
      "Renamed: orbits_-_orbits.csv to aj_orbits_-_orbits.csv\n",
      "Renamed: pha_use_only_NEA_class.csv to ak_pha_use_only_NEA_class.csv\n",
      "Renamed: sbdb_query_results.csv to al_sbdb_query_results.csv\n"
     ]
    }
   ],
   "source": [
    "files = os.listdir('datasets')\n",
    "\n",
    "# Enumerate through the files and rename them with prefixes\n",
    "for index, file_name in enumerate(files):\n",
    "    # Generate the prefix (aa_, ab_, ac_, ...)\n",
    "    prefix = chr(ord('a') + (index // 26)) + chr(ord('a') + (index % 26)) + \"_\"\n",
    "    # Construct the new file name with the prefix\n",
    "    new_file_name = prefix + file_name\n",
    "\n",
    "    # Construct the full paths for the old and new names\n",
    "    old_path = os.path.join('datasets', file_name)\n",
    "    new_path = os.path.join('datasets', new_file_name)\n",
    "\n",
    "    # Rename the file\n",
    "    os.rename(old_path, new_path)\n",
    "    print(f\"Renamed: {file_name} to {new_file_name}\")"
   ]
  },
  {
   "cell_type": "markdown",
   "metadata": {},
   "source": [
    "Rename all CSVs in final"
   ]
  },
  {
   "cell_type": "code",
   "execution_count": 22,
   "metadata": {},
   "outputs": [
    {
     "name": "stdout",
     "output_type": "stream",
     "text": [
      "Renamed: cneos_closeapproach_data.csv to ba_cneos_closeapproach_data.csv\n",
      "Renamed: Future_Asteroids.csv to bb_Future_Asteroids.csv\n"
     ]
    }
   ],
   "source": [
    "files = os.listdir('Final_datasets')\n",
    "\n",
    "# Enumerate through the files and rename them with prefixes\n",
    "for index, file_name in enumerate(files):\n",
    "    # Generate the prefix (aa_, ab_, ac_, ...)\n",
    "    prefix = chr(ord('b') + (index // 26)) + chr(ord('a') + (index % 26)) + \"_\"\n",
    "    \n",
    "    # Construct the new file name with the prefix\n",
    "    new_file_name = prefix + file_name\n",
    "\n",
    "    # Construct the full paths for the old and new names\n",
    "    old_path = os.path.join('Final_datasets', file_name)\n",
    "    new_path = os.path.join('Final_datasets', new_file_name)\n",
    "\n",
    "    # Rename the file\n",
    "    os.rename(old_path, new_path)\n",
    "    print(f\"Renamed: {file_name} to {new_file_name}\")"
   ]
  },
  {
   "cell_type": "markdown",
   "metadata": {},
   "source": [
    "Un-Rename all CSVs"
   ]
  },
  {
   "cell_type": "code",
   "execution_count": 21,
   "metadata": {},
   "outputs": [],
   "source": [
    "for folder in ['datasets', 'Final_datasets']:    \n",
    "    for i in os.listdir(folder):\n",
    "        if i[2] == '_':\n",
    "            new_name = folder + '/' + i[3:]\n",
    "            os.rename(folder + '/' + i, folder + '/' + i[3:])"
   ]
  },
  {
   "cell_type": "markdown",
   "metadata": {},
   "source": [
    "List all csvs"
   ]
  },
  {
   "cell_type": "code",
   "execution_count": 35,
   "metadata": {},
   "outputs": [
    {
     "name": "stdout",
     "output_type": "stream",
     "text": [
      "aa_Amerigeoss_see_what_you_can_use_Near-Earth_Comets_-_Orbital_Elements.csv\n",
      "ab_asteroid_diameter.csv\n",
      "af_Future_Asteroids.csv\n",
      "ag_nasa.csv\n",
      "ah_NASA_Near-Earth_Objects.csv\n",
      "ai_Near-Earth_Asteroids_(NEAs).csv\n",
      "aj_Near_Earth_Asteroids.csv\n",
      "ak_NEOS-Close-Approach-Data.csv\n",
      "al_NEO_Earth_Close_Approaches.csv\n",
      "am_neo_v2.csv\n",
      "an_orbits.csv\n",
      "ao_orbits_-_orbits.csv\n",
      "ap_pha_use_only_NEA_class.csv\n",
      "aq_sbdb_query_results.csv\n",
      "ar_vizier_votable1.csv\n",
      "as_vizier_votable2.csv\n",
      "\n",
      "16\n"
     ]
    }
   ],
   "source": [
    "CSVs = []\n",
    "# os.chdir('datasets')\n",
    "for file in os.listdir('datasets'):\n",
    "    if file.endswith(\".csv\") and file[0].isalpha():\n",
    "        CSVs.append(file)\n",
    "        print(file)\n",
    "\n",
    "print(f'\\n{len(CSVs)}')"
   ]
  },
  {
   "cell_type": "markdown",
   "metadata": {},
   "source": [
    "### Read all csv headers"
   ]
  },
  {
   "cell_type": "code",
   "execution_count": 32,
   "metadata": {},
   "outputs": [],
   "source": [
    "# Read all csv headers\n",
    "headers = []\n",
    "no_attributes = []\n",
    "for file in CSVs:\n",
    "    df = pd.read_csv(file, nrows=1)\n",
    "    headers.append(df.columns.tolist())\n",
    "    no_attributes.append(len(df.columns.tolist()))\n",
    "\n",
    "final = []\n",
    "for i, j in zip(no_attributes, headers):\n",
    "    final.append([i, j])\n",
    "    print([i, j])"
   ]
  },
  {
   "cell_type": "code",
   "execution_count": 33,
   "metadata": {},
   "outputs": [],
   "source": [
    "import os\n",
    "import csv\n",
    "\n",
    "# Initialize an empty dictionary to store grouped data\n",
    "grouped_data = {}\n",
    "\n",
    "# Iterate through the CSV files in the directory\n",
    "for filename in os.listdir():\n",
    "    if filename.endswith(\".csv\"):\n",
    "        # Extract the CSV name and number of attributes\n",
    "        csv_name = os.path.splitext(filename)[0]\n",
    "        with open(os.path.join(filename), 'r') as csvfile:\n",
    "            csv_reader = csv.reader(csvfile)\n",
    "            attributes = next(csv_reader)  # Read the first row as attributes\n",
    "            num_attributes = len(attributes)\n",
    "        \n",
    "        # Group the data by the number of attributes\n",
    "        if num_attributes in grouped_data:\n",
    "            grouped_data[num_attributes].append({csv_name: attributes})\n",
    "        else:\n",
    "            grouped_data[num_attributes] = [{csv_name: attributes}]\n",
    "\n",
    "# Sort the groups by the number of attributes\n",
    "sorted_groups = sorted(grouped_data.items())\n",
    "\n",
    "# Create the final dictionary with the desired format\n",
    "final_result = {num_attr: data for num_attr, data in sorted_groups}\n",
    "\n",
    "result_keys = list(final_result.keys())\n",
    "result_keys.sort()\n",
    "sorted_dict = {i: final_result[i] for i in result_keys}\n",
    "\n",
    "# Display the result\n",
    "for num_attributes, csv_list in final_result.items():\n",
    "    print(f\"Attributes: {num_attributes}\")\n",
    "    for csvs in csv_list:\n",
    "        print(f\"{list(csvs.keys())[0]}:\\t{list(csvs.values())[0]}\")\n",
    "    print('\\n')\n"
   ]
  },
  {
   "cell_type": "code",
   "execution_count": 34,
   "metadata": {},
   "outputs": [
    {
     "ename": "FileNotFoundError",
     "evalue": "[Errno 2] No such file or directory: 'al_NEO_Earth_Close_Approaches.csv'",
     "output_type": "error",
     "traceback": [
      "\u001b[1;31m---------------------------------------------------------------------------\u001b[0m",
      "\u001b[1;31mFileNotFoundError\u001b[0m                         Traceback (most recent call last)",
      "\u001b[1;32mc:\\Users\\Admin\\Aditya Hegde\\ML Project\\NEO-Classification\\compare_csvs.ipynb Cell 8\u001b[0m line \u001b[0;36m1\n\u001b[1;32m----> <a href='vscode-notebook-cell:/c%3A/Users/Admin/Aditya%20Hegde/ML%20Project/NEO-Classification/compare_csvs.ipynb#X10sZmlsZQ%3D%3D?line=0'>1</a>\u001b[0m df1 \u001b[39m=\u001b[39m pd\u001b[39m.\u001b[39;49mread_csv(\u001b[39m'\u001b[39;49m\u001b[39mal_NEO_Earth_Close_Approaches.csv\u001b[39;49m\u001b[39m'\u001b[39;49m)\u001b[39m.\u001b[39mdropna(axis\u001b[39m=\u001b[39m\u001b[39m0\u001b[39m)\u001b[39m.\u001b[39mdrop_duplicates()\u001b[39m.\u001b[39miloc[:, :\u001b[39m-\u001b[39m\u001b[39m1\u001b[39m]\n\u001b[0;32m      <a href='vscode-notebook-cell:/c%3A/Users/Admin/Aditya%20Hegde/ML%20Project/NEO-Classification/compare_csvs.ipynb#X10sZmlsZQ%3D%3D?line=1'>2</a>\u001b[0m df2 \u001b[39m=\u001b[39m pd\u001b[39m.\u001b[39mread_csv(\u001b[39m'\u001b[39m\u001b[39mad_cneos_closeapproach_data.csv\u001b[39m\u001b[39m'\u001b[39m)\u001b[39m.\u001b[39mdropna(axis\u001b[39m=\u001b[39m\u001b[39m0\u001b[39m)\u001b[39m.\u001b[39mdrop_duplicates()\u001b[39m.\u001b[39miloc[:, :\u001b[39m-\u001b[39m\u001b[39m1\u001b[39m]\n\u001b[0;32m      <a href='vscode-notebook-cell:/c%3A/Users/Admin/Aditya%20Hegde/ML%20Project/NEO-Classification/compare_csvs.ipynb#X10sZmlsZQ%3D%3D?line=3'>4</a>\u001b[0m \u001b[39mprint\u001b[39m(df1\u001b[39m.\u001b[39minfo(), end\u001b[39m=\u001b[39m\u001b[39m\"\u001b[39m\u001b[39m\\n\u001b[39;00m\u001b[39m\\n\u001b[39;00m\u001b[39m\\n\u001b[39;00m\u001b[39m\"\u001b[39m)\n",
      "File \u001b[1;32mc:\\Users\\Admin\\anaconda3\\envs\\ML_Project\\lib\\site-packages\\pandas\\io\\parsers\\readers.py:912\u001b[0m, in \u001b[0;36mread_csv\u001b[1;34m(filepath_or_buffer, sep, delimiter, header, names, index_col, usecols, dtype, engine, converters, true_values, false_values, skipinitialspace, skiprows, skipfooter, nrows, na_values, keep_default_na, na_filter, verbose, skip_blank_lines, parse_dates, infer_datetime_format, keep_date_col, date_parser, date_format, dayfirst, cache_dates, iterator, chunksize, compression, thousands, decimal, lineterminator, quotechar, quoting, doublequote, escapechar, comment, encoding, encoding_errors, dialect, on_bad_lines, delim_whitespace, low_memory, memory_map, float_precision, storage_options, dtype_backend)\u001b[0m\n\u001b[0;32m    899\u001b[0m kwds_defaults \u001b[39m=\u001b[39m _refine_defaults_read(\n\u001b[0;32m    900\u001b[0m     dialect,\n\u001b[0;32m    901\u001b[0m     delimiter,\n\u001b[1;32m   (...)\u001b[0m\n\u001b[0;32m    908\u001b[0m     dtype_backend\u001b[39m=\u001b[39mdtype_backend,\n\u001b[0;32m    909\u001b[0m )\n\u001b[0;32m    910\u001b[0m kwds\u001b[39m.\u001b[39mupdate(kwds_defaults)\n\u001b[1;32m--> 912\u001b[0m \u001b[39mreturn\u001b[39;00m _read(filepath_or_buffer, kwds)\n",
      "File \u001b[1;32mc:\\Users\\Admin\\anaconda3\\envs\\ML_Project\\lib\\site-packages\\pandas\\io\\parsers\\readers.py:577\u001b[0m, in \u001b[0;36m_read\u001b[1;34m(filepath_or_buffer, kwds)\u001b[0m\n\u001b[0;32m    574\u001b[0m _validate_names(kwds\u001b[39m.\u001b[39mget(\u001b[39m\"\u001b[39m\u001b[39mnames\u001b[39m\u001b[39m\"\u001b[39m, \u001b[39mNone\u001b[39;00m))\n\u001b[0;32m    576\u001b[0m \u001b[39m# Create the parser.\u001b[39;00m\n\u001b[1;32m--> 577\u001b[0m parser \u001b[39m=\u001b[39m TextFileReader(filepath_or_buffer, \u001b[39m*\u001b[39m\u001b[39m*\u001b[39mkwds)\n\u001b[0;32m    579\u001b[0m \u001b[39mif\u001b[39;00m chunksize \u001b[39mor\u001b[39;00m iterator:\n\u001b[0;32m    580\u001b[0m     \u001b[39mreturn\u001b[39;00m parser\n",
      "File \u001b[1;32mc:\\Users\\Admin\\anaconda3\\envs\\ML_Project\\lib\\site-packages\\pandas\\io\\parsers\\readers.py:1407\u001b[0m, in \u001b[0;36mTextFileReader.__init__\u001b[1;34m(self, f, engine, **kwds)\u001b[0m\n\u001b[0;32m   1404\u001b[0m     \u001b[39mself\u001b[39m\u001b[39m.\u001b[39moptions[\u001b[39m\"\u001b[39m\u001b[39mhas_index_names\u001b[39m\u001b[39m\"\u001b[39m] \u001b[39m=\u001b[39m kwds[\u001b[39m\"\u001b[39m\u001b[39mhas_index_names\u001b[39m\u001b[39m\"\u001b[39m]\n\u001b[0;32m   1406\u001b[0m \u001b[39mself\u001b[39m\u001b[39m.\u001b[39mhandles: IOHandles \u001b[39m|\u001b[39m \u001b[39mNone\u001b[39;00m \u001b[39m=\u001b[39m \u001b[39mNone\u001b[39;00m\n\u001b[1;32m-> 1407\u001b[0m \u001b[39mself\u001b[39m\u001b[39m.\u001b[39m_engine \u001b[39m=\u001b[39m \u001b[39mself\u001b[39;49m\u001b[39m.\u001b[39;49m_make_engine(f, \u001b[39mself\u001b[39;49m\u001b[39m.\u001b[39;49mengine)\n",
      "File \u001b[1;32mc:\\Users\\Admin\\anaconda3\\envs\\ML_Project\\lib\\site-packages\\pandas\\io\\parsers\\readers.py:1661\u001b[0m, in \u001b[0;36mTextFileReader._make_engine\u001b[1;34m(self, f, engine)\u001b[0m\n\u001b[0;32m   1659\u001b[0m     \u001b[39mif\u001b[39;00m \u001b[39m\"\u001b[39m\u001b[39mb\u001b[39m\u001b[39m\"\u001b[39m \u001b[39mnot\u001b[39;00m \u001b[39min\u001b[39;00m mode:\n\u001b[0;32m   1660\u001b[0m         mode \u001b[39m+\u001b[39m\u001b[39m=\u001b[39m \u001b[39m\"\u001b[39m\u001b[39mb\u001b[39m\u001b[39m\"\u001b[39m\n\u001b[1;32m-> 1661\u001b[0m \u001b[39mself\u001b[39m\u001b[39m.\u001b[39mhandles \u001b[39m=\u001b[39m get_handle(\n\u001b[0;32m   1662\u001b[0m     f,\n\u001b[0;32m   1663\u001b[0m     mode,\n\u001b[0;32m   1664\u001b[0m     encoding\u001b[39m=\u001b[39;49m\u001b[39mself\u001b[39;49m\u001b[39m.\u001b[39;49moptions\u001b[39m.\u001b[39;49mget(\u001b[39m\"\u001b[39;49m\u001b[39mencoding\u001b[39;49m\u001b[39m\"\u001b[39;49m, \u001b[39mNone\u001b[39;49;00m),\n\u001b[0;32m   1665\u001b[0m     compression\u001b[39m=\u001b[39;49m\u001b[39mself\u001b[39;49m\u001b[39m.\u001b[39;49moptions\u001b[39m.\u001b[39;49mget(\u001b[39m\"\u001b[39;49m\u001b[39mcompression\u001b[39;49m\u001b[39m\"\u001b[39;49m, \u001b[39mNone\u001b[39;49;00m),\n\u001b[0;32m   1666\u001b[0m     memory_map\u001b[39m=\u001b[39;49m\u001b[39mself\u001b[39;49m\u001b[39m.\u001b[39;49moptions\u001b[39m.\u001b[39;49mget(\u001b[39m\"\u001b[39;49m\u001b[39mmemory_map\u001b[39;49m\u001b[39m\"\u001b[39;49m, \u001b[39mFalse\u001b[39;49;00m),\n\u001b[0;32m   1667\u001b[0m     is_text\u001b[39m=\u001b[39;49mis_text,\n\u001b[0;32m   1668\u001b[0m     errors\u001b[39m=\u001b[39;49m\u001b[39mself\u001b[39;49m\u001b[39m.\u001b[39;49moptions\u001b[39m.\u001b[39;49mget(\u001b[39m\"\u001b[39;49m\u001b[39mencoding_errors\u001b[39;49m\u001b[39m\"\u001b[39;49m, \u001b[39m\"\u001b[39;49m\u001b[39mstrict\u001b[39;49m\u001b[39m\"\u001b[39;49m),\n\u001b[0;32m   1669\u001b[0m     storage_options\u001b[39m=\u001b[39;49m\u001b[39mself\u001b[39;49m\u001b[39m.\u001b[39;49moptions\u001b[39m.\u001b[39;49mget(\u001b[39m\"\u001b[39;49m\u001b[39mstorage_options\u001b[39;49m\u001b[39m\"\u001b[39;49m, \u001b[39mNone\u001b[39;49;00m),\n\u001b[0;32m   1670\u001b[0m )\n\u001b[0;32m   1671\u001b[0m \u001b[39massert\u001b[39;00m \u001b[39mself\u001b[39m\u001b[39m.\u001b[39mhandles \u001b[39mis\u001b[39;00m \u001b[39mnot\u001b[39;00m \u001b[39mNone\u001b[39;00m\n\u001b[0;32m   1672\u001b[0m f \u001b[39m=\u001b[39m \u001b[39mself\u001b[39m\u001b[39m.\u001b[39mhandles\u001b[39m.\u001b[39mhandle\n",
      "File \u001b[1;32mc:\\Users\\Admin\\anaconda3\\envs\\ML_Project\\lib\\site-packages\\pandas\\io\\common.py:859\u001b[0m, in \u001b[0;36mget_handle\u001b[1;34m(path_or_buf, mode, encoding, compression, memory_map, is_text, errors, storage_options)\u001b[0m\n\u001b[0;32m    854\u001b[0m \u001b[39melif\u001b[39;00m \u001b[39misinstance\u001b[39m(handle, \u001b[39mstr\u001b[39m):\n\u001b[0;32m    855\u001b[0m     \u001b[39m# Check whether the filename is to be opened in binary mode.\u001b[39;00m\n\u001b[0;32m    856\u001b[0m     \u001b[39m# Binary mode does not support 'encoding' and 'newline'.\u001b[39;00m\n\u001b[0;32m    857\u001b[0m     \u001b[39mif\u001b[39;00m ioargs\u001b[39m.\u001b[39mencoding \u001b[39mand\u001b[39;00m \u001b[39m\"\u001b[39m\u001b[39mb\u001b[39m\u001b[39m\"\u001b[39m \u001b[39mnot\u001b[39;00m \u001b[39min\u001b[39;00m ioargs\u001b[39m.\u001b[39mmode:\n\u001b[0;32m    858\u001b[0m         \u001b[39m# Encoding\u001b[39;00m\n\u001b[1;32m--> 859\u001b[0m         handle \u001b[39m=\u001b[39m \u001b[39mopen\u001b[39;49m(\n\u001b[0;32m    860\u001b[0m             handle,\n\u001b[0;32m    861\u001b[0m             ioargs\u001b[39m.\u001b[39;49mmode,\n\u001b[0;32m    862\u001b[0m             encoding\u001b[39m=\u001b[39;49mioargs\u001b[39m.\u001b[39;49mencoding,\n\u001b[0;32m    863\u001b[0m             errors\u001b[39m=\u001b[39;49merrors,\n\u001b[0;32m    864\u001b[0m             newline\u001b[39m=\u001b[39;49m\u001b[39m\"\u001b[39;49m\u001b[39m\"\u001b[39;49m,\n\u001b[0;32m    865\u001b[0m         )\n\u001b[0;32m    866\u001b[0m     \u001b[39melse\u001b[39;00m:\n\u001b[0;32m    867\u001b[0m         \u001b[39m# Binary mode\u001b[39;00m\n\u001b[0;32m    868\u001b[0m         handle \u001b[39m=\u001b[39m \u001b[39mopen\u001b[39m(handle, ioargs\u001b[39m.\u001b[39mmode)\n",
      "\u001b[1;31mFileNotFoundError\u001b[0m: [Errno 2] No such file or directory: 'al_NEO_Earth_Close_Approaches.csv'"
     ]
    }
   ],
   "source": [
    "df1 = pd.read_csv('al_NEO_Earth_Close_Approaches.csv').dropna(axis=0).drop_duplicates().iloc[:, :-1]\n",
    "df2 = pd.read_csv('ad_cneos_closeapproach_data.csv').dropna(axis=0).drop_duplicates().iloc[:, :-1]\n",
    "\n",
    "print(df1.info(), end=\"\\n\\n\\n\")\n",
    "\n",
    "print(df2.info())"
   ]
  },
  {
   "cell_type": "code",
   "execution_count": null,
   "metadata": {},
   "outputs": [
    {
     "name": "stdout",
     "output_type": "stream",
     "text": [
      "<class 'pandas.core.frame.DataFrame'>\n",
      "Index: 35910 entries, 0 to 19\n",
      "Data columns (total 8 columns):\n",
      " #   Column                    Non-Null Count  Dtype  \n",
      "---  ------                    --------------  -----  \n",
      " 0   Object                    35910 non-null  object \n",
      " 1   Close-Approach (CA) Date  35910 non-null  object \n",
      " 2   CA DistanceNominal (au)   35910 non-null  object \n",
      " 3   CA DistanceMinimum (au)   35910 non-null  object \n",
      " 4   V relative(km/s)          35910 non-null  float64\n",
      " 5   V infinity(km/s)          35910 non-null  object \n",
      " 6   H(mag)                    35910 non-null  float64\n",
      " 7   Diameter                  35910 non-null  object \n",
      "dtypes: float64(2), object(6)\n",
      "memory usage: 2.5+ MB\n",
      "None\n"
     ]
    }
   ],
   "source": [
    "df1 = pd.concat([df1, df2], axis=0).drop_duplicates()\n",
    "print(df1.info())"
   ]
  },
  {
   "cell_type": "code",
   "execution_count": null,
   "metadata": {},
   "outputs": [],
   "source": [
    "df1.to_csv('at_cneos_closeapproach_data_final.csv', index=False)\n",
    "# we can now discard ad and al csvs"
   ]
  },
  {
   "cell_type": "markdown",
   "metadata": {},
   "source": [
    "To classify as NEO, we will need to see if the closest approach to the sun is less than 1.3 AU. <br>\n",
    "This dataset however, contains only NEOs. So this can only be used for PHA training. <br>\n",
    "For hazardousness, the object will need to be larger than 140 meters across. <br>\n",
    "We can easily create a column for these 2 classifications."
   ]
  },
  {
   "cell_type": "code",
   "execution_count": null,
   "metadata": {},
   "outputs": [],
   "source": [
    "df = pd.read_csv('ad_cneos_closeapproach_data_final.csv')\n",
    "\n",
    "df['CA DistanceMinimum (au)'] = df['CA DistanceMinimum (au)'].apply(lambda x: x.split(' | ')[1].strip() if ' | ' in x else x).astype(float)"
   ]
  },
  {
   "cell_type": "code",
   "execution_count": null,
   "metadata": {},
   "outputs": [],
   "source": [
    "# Create a new \"pha\" column and initialize it with zeros\n",
    "df['pha'] = 0\n",
    "\n",
    "# Apply your conditions to set 'pha' to 1 where necessary\n",
    "df.loc[(df['CA DistanceMinimum (au)'] < 0.01) | (df['H(mag)'] <= 22.0), 'pha'] = 1\n",
    "\n",
    "df.to_csv('ad_cneos_closeapproach_data_final.csv', index=False)"
   ]
  },
  {
   "cell_type": "code",
   "execution_count": null,
   "metadata": {},
   "outputs": [
    {
     "name": "stdout",
     "output_type": "stream",
     "text": [
      "pha\n",
      "0    22778\n",
      "1    13132\n",
      "Name: count, dtype: int64\n"
     ]
    }
   ],
   "source": [
    "print(df['pha'].value_counts())"
   ]
  },
  {
   "cell_type": "code",
   "execution_count": null,
   "metadata": {},
   "outputs": [],
   "source": [
    "df.to_csv('at_cneos_closeapproach_data_final.csv', index=False)"
   ]
  },
  {
   "cell_type": "markdown",
   "metadata": {},
   "source": [
    "### CSV set 2"
   ]
  },
  {
   "cell_type": "code",
   "execution_count": 38,
   "metadata": {},
   "outputs": [
    {
     "name": "stdout",
     "output_type": "stream",
     "text": [
      "<class 'pandas.core.frame.DataFrame'>\n",
      "RangeIndex: 753 entries, 0 to 752\n",
      "Data columns (total 10 columns):\n",
      " #   Column                                                     Non-Null Count  Dtype  \n",
      "---  ------                                                     --------------  -----  \n",
      " 0   Object                                                     753 non-null    object \n",
      " 1   Close-Approach (CA) Date (TDB)YYYY-mmm-DD HH:MM ± D_HH:MM  753 non-null    object \n",
      " 2   CA DistanceNominal(LD/AU)                                  753 non-null    object \n",
      " 3   CA DistanceMinimum(LD/AU)                                  753 non-null    object \n",
      " 4   Vrelative(km/s)                                            753 non-null    float64\n",
      " 5   Vinfinity(km/s)                                            753 non-null    float64\n",
      " 6   Nsigma                                                     753 non-null    float64\n",
      " 7   H(mag)                                                     753 non-null    float64\n",
      " 8   ref                                                        753 non-null    int64  \n",
      " 9   class                                                      753 non-null    object \n",
      "dtypes: float64(4), int64(1), object(5)\n",
      "memory usage: 59.0+ KB\n",
      "<class 'pandas.core.frame.DataFrame'>\n",
      "RangeIndex: 544 entries, 0 to 543\n",
      "Data columns (total 10 columns):\n",
      " #   Column                                                     Non-Null Count  Dtype  \n",
      "---  ------                                                     --------------  -----  \n",
      " 0   Object                                                     544 non-null    object \n",
      " 1   Close-Approach (CA) Date (TDB)YYYY-mmm-DD HH:MM ± D_HH:MM  544 non-null    object \n",
      " 2   CA DistanceNominal(LD/AU)                                  544 non-null    object \n",
      " 3   CA DistanceMinimum(LD/AU)                                  544 non-null    object \n",
      " 4   Vrelative(km/s)                                            544 non-null    float64\n",
      " 5   Vinfinity(km/s)                                            544 non-null    float64\n",
      " 6   Nsigma                                                     544 non-null    float64\n",
      " 7   H(mag)                                                     543 non-null    float64\n",
      " 8   ref                                                        544 non-null    int64  \n",
      " 9   class                                                      544 non-null    object \n",
      "dtypes: float64(4), int64(1), object(5)\n",
      "memory usage: 42.6+ KB\n",
      "<class 'pandas.core.frame.DataFrame'>\n",
      "RangeIndex: 90836 entries, 0 to 90835\n",
      "Data columns (total 10 columns):\n",
      " #   Column              Non-Null Count  Dtype  \n",
      "---  ------              --------------  -----  \n",
      " 0   id                  90836 non-null  int64  \n",
      " 1   name                90836 non-null  object \n",
      " 2   est_diameter_min    90836 non-null  float64\n",
      " 3   est_diameter_max    90836 non-null  float64\n",
      " 4   relative_velocity   90836 non-null  float64\n",
      " 5   miss_distance       90836 non-null  float64\n",
      " 6   orbiting_body       90836 non-null  object \n",
      " 7   sentry_object       90836 non-null  bool   \n",
      " 8   absolute_magnitude  90836 non-null  float64\n",
      " 9   hazardous           90836 non-null  bool   \n",
      "dtypes: bool(2), float64(5), int64(1), object(2)\n",
      "memory usage: 5.7+ MB\n",
      "\n",
      "None\n",
      "\n",
      "None\n",
      "\n",
      "None\n",
      "\n"
     ]
    }
   ],
   "source": [
    "import pandas as pd\n",
    "\n",
    "df1, df2, df3 = pd.read_csv('datasets/af_Future_Asteroids.csv', engine='pyarrow').drop_duplicates(), pd.read_csv('datasets/aj_Near_Earth_Asteroids.csv', engine='pyarrow').drop_duplicates(), pd.read_csv('datasets/am_neo_v2.csv', engine='pyarrow').drop_duplicates()\n",
    "\n",
    "print(f\"\\n{df1.info()}\\n\\n{df2.info()}\\n\\n{df3.info()}\\n\")"
   ]
  },
  {
   "cell_type": "code",
   "execution_count": 40,
   "metadata": {},
   "outputs": [
    {
     "name": "stdout",
     "output_type": "stream",
     "text": [
      "class\n",
      "APO*    936\n",
      "ATE*    164\n",
      "AMO*     74\n",
      "IEO*      2\n",
      "JFc*      1\n",
      "Name: count, dtype: int64\n"
     ]
    }
   ],
   "source": [
    "# Append df2 to df1\n",
    "# df1 = pd.concat([df1, df2], axis=0).drop_duplicates()\n",
    "print(df1['class'].value_counts())"
   ]
  },
  {
   "cell_type": "code",
   "execution_count": 41,
   "metadata": {},
   "outputs": [
    {
     "name": "stdout",
     "output_type": "stream",
     "text": [
      "class\n",
      "NEA    1177\n",
      "Name: count, dtype: int64\n"
     ]
    }
   ],
   "source": [
    "# Change all values in df1['class'] to 'NEA'\n",
    "df1['class'] = 'NEA'\n",
    "print(df1['class'].value_counts())"
   ]
  },
  {
   "cell_type": "code",
   "execution_count": 42,
   "metadata": {},
   "outputs": [],
   "source": [
    "df1.to_csv('Final_datasets/af_Future_Asteroids.csv', index=False)"
   ]
  },
  {
   "cell_type": "code",
   "execution_count": 43,
   "metadata": {},
   "outputs": [],
   "source": [
    "del df1, df2, df3\n"
   ]
  },
  {
   "cell_type": "markdown",
   "metadata": {},
   "source": [
    "### Working on Class 3"
   ]
  },
  {
   "cell_type": "code",
   "execution_count": 47,
   "metadata": {},
   "outputs": [],
   "source": [
    "df1 = pd.read_csv('datasets/am_neo_v2.csv', engine='pyarrow').drop_duplicates(inplace=False)"
   ]
  },
  {
   "cell_type": "code",
   "execution_count": 48,
   "metadata": {},
   "outputs": [
    {
     "name": "stdout",
     "output_type": "stream",
     "text": [
      "<class 'pandas.core.frame.DataFrame'>\n",
      "RangeIndex: 90836 entries, 0 to 90835\n",
      "Data columns (total 10 columns):\n",
      " #   Column              Non-Null Count  Dtype  \n",
      "---  ------              --------------  -----  \n",
      " 0   id                  90836 non-null  int64  \n",
      " 1   name                90836 non-null  object \n",
      " 2   est_diameter_min    90836 non-null  float64\n",
      " 3   est_diameter_max    90836 non-null  float64\n",
      " 4   relative_velocity   90836 non-null  float64\n",
      " 5   miss_distance       90836 non-null  float64\n",
      " 6   orbiting_body       90836 non-null  object \n",
      " 7   sentry_object       90836 non-null  bool   \n",
      " 8   absolute_magnitude  90836 non-null  float64\n",
      " 9   hazardous           90836 non-null  bool   \n",
      "dtypes: bool(2), float64(5), int64(1), object(2)\n",
      "memory usage: 5.7+ MB\n"
     ]
    }
   ],
   "source": [
    "df1.info()"
   ]
  },
  {
   "cell_type": "code",
   "execution_count": 52,
   "metadata": {},
   "outputs": [
    {
     "data": {
      "text/plain": [
       "hazardous\n",
       "False    81996\n",
       "True      8840\n",
       "Name: count, dtype: int64"
      ]
     },
     "execution_count": 52,
     "metadata": {},
     "output_type": "execute_result"
    }
   ],
   "source": [
    "df1['hazardous'].value_counts()"
   ]
  },
  {
   "cell_type": "code",
   "execution_count": 55,
   "metadata": {},
   "outputs": [
    {
     "name": "stdout",
     "output_type": "stream",
     "text": [
      "<class 'pandas.core.frame.DataFrame'>\n",
      "RangeIndex: 90836 entries, 0 to 90835\n",
      "Data columns (total 9 columns):\n",
      " #   Column              Non-Null Count  Dtype  \n",
      "---  ------              --------------  -----  \n",
      " 0   id                  90836 non-null  int64  \n",
      " 1   name                90836 non-null  object \n",
      " 2   est_diameter_min    90836 non-null  float64\n",
      " 3   est_diameter_max    90836 non-null  float64\n",
      " 4   relative_velocity   90836 non-null  float64\n",
      " 5   miss_distance       90836 non-null  float64\n",
      " 6   orbiting_body       90836 non-null  object \n",
      " 7   absolute_magnitude  90836 non-null  float64\n",
      " 8   hazardous           90836 non-null  bool   \n",
      "dtypes: bool(1), float64(5), int64(1), object(2)\n",
      "memory usage: 5.6+ MB\n"
     ]
    }
   ],
   "source": [
    "# df1.drop('sentry_object', axis=1, inplace=True)\n",
    "df1.info()"
   ]
  },
  {
   "cell_type": "code",
   "execution_count": null,
   "metadata": {},
   "outputs": [],
   "source": []
  }
 ],
 "metadata": {
  "kernelspec": {
   "display_name": "ML_Project",
   "language": "python",
   "name": "python3"
  },
  "language_info": {
   "codemirror_mode": {
    "name": "ipython",
    "version": 3
   },
   "file_extension": ".py",
   "mimetype": "text/x-python",
   "name": "python",
   "nbconvert_exporter": "python",
   "pygments_lexer": "ipython3",
   "version": "3.10.13"
  },
  "orig_nbformat": 4
 },
 "nbformat": 4,
 "nbformat_minor": 2
}
